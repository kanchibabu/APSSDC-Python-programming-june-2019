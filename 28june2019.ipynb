{
 "cells": [
  {
   "cell_type": "code",
   "execution_count": 47,
   "metadata": {},
   "outputs": [
    {
     "name": "stdout",
     "output_type": "stream",
     "text": [
      "5\n",
      "(5, 1, 5)\n",
      "(5, 2, 10)\n",
      "(5, 3, 15)\n",
      "(5, 4, 20)\n",
      "(5, 5, 25)\n",
      "(5, 6, 30)\n",
      "(5, 7, 35)\n",
      "(5, 8, 40)\n",
      "(5, 9, 45)\n"
     ]
    }
   ],
   "source": [
    "n = int(input())\n",
    "li = [(n,i,n*i) for i in range(1,10)]\n",
    "for i in li:\n",
    "    print(i)"
   ]
  },
  {
   "cell_type": "code",
   "execution_count": 5,
   "metadata": {},
   "outputs": [
    {
     "name": "stdout",
     "output_type": "stream",
     "text": [
      "A P S S D C\n",
      "Apssdc\n"
     ]
    }
   ],
   "source": [
    "# 1-Print given characters as a word with starting character capital form and remaining lower\n",
    "\n",
    "s = input()\n",
    "z=s.replace(\" \",\"\")\n",
    "print(z.capitalize())"
   ]
  },
  {
   "cell_type": "code",
   "execution_count": 7,
   "metadata": {},
   "outputs": [
    {
     "name": "stdout",
     "output_type": "stream",
     "text": [
      "A P S S D C\n",
      "Apssdc\n"
     ]
    }
   ],
   "source": [
    "character = input().split()\n",
    "print(\"\".join(character).capitalize())\n"
   ]
  },
  {
   "cell_type": "code",
   "execution_count": 9,
   "metadata": {},
   "outputs": [
    {
     "name": "stdout",
     "output_type": "stream",
     "text": [
      "hello\n",
      "world\n"
     ]
    }
   ],
   "source": [
    "#Print the maximum length word of given words\n",
    "x = \"hai hello world\"\n",
    "y= x.split()\n",
    "count = 0\n",
    "length = []\n",
    "for i in y:\n",
    "    length.append(len(i))\n",
    "for i in y:\n",
    "    if max(length) == len(i):\n",
    "        print(i)"
   ]
  },
  {
   "cell_type": "code",
   "execution_count": 9,
   "metadata": {},
   "outputs": [
    {
     "name": "stdout",
     "output_type": "stream",
     "text": [
      "ramu balu nani\n",
      "a\n",
      "-1\n"
     ]
    }
   ],
   "source": [
    "# Print all the words which starts with the given character, If no words matches with the given condition you should print -1\n",
    "\n",
    "s = input()\n",
    "z= s.split()\n",
    "sub_string=input()\n",
    "match = 0\n",
    "for i in z:\n",
    "    if i.startswith(sub_string):\n",
    "        print(i)\n",
    "if match==0:\n",
    "    print(-1)        "
   ]
  },
  {
   "cell_type": "code",
   "execution_count": 5,
   "metadata": {},
   "outputs": [
    {
     "name": "stdout",
     "output_type": "stream",
     "text": [
      "ramu ravi balu mahesh\n",
      "mahesh\n"
     ]
    }
   ],
   "source": [
    "# Print all the words which words not ends with vowels(a,e,i,o,u)\n",
    "s= input()\n",
    "z=s.split()\n",
    "sub_string=(\"a\",\"e\",\"i\",\"o\",\"u\")\n",
    "for i in z:\n",
    "    if i.endswith(sub_string)!= True:\n",
    "        print(i)"
   ]
  },
  {
   "cell_type": "code",
   "execution_count": null,
   "metadata": {},
   "outputs": [],
   "source": []
  },
  {
   "cell_type": "code",
   "execution_count": 87,
   "metadata": {},
   "outputs": [
    {
     "name": "stdout",
     "output_type": "stream",
     "text": [
      "HeLLOwORLd\n"
     ]
    },
    {
     "data": {
      "text/plain": [
       "'hElloWorld'"
      ]
     },
     "execution_count": 87,
     "metadata": {},
     "output_type": "execute_result"
    }
   ],
   "source": [
    "# Swap the case of all characters in given string except last character\n",
    "\n",
    "s=input()\n",
    "s[:-1].swapcase()+s[-1]\n",
    "    "
   ]
  },
  {
   "cell_type": "code",
   "execution_count": 3,
   "metadata": {},
   "outputs": [
    {
     "name": "stdout",
     "output_type": "stream",
     "text": [
      "HelloWorld\n",
      "2\n"
     ]
    }
   ],
   "source": [
    "# Print the number of words in a given string (here word starting character contains UPPER letter)\n",
    "s = input()\n",
    "count = 0\n",
    "for i in s:\n",
    "    if i.isupper():\n",
    "        count +=1\n",
    "print(count)\n",
    "    "
   ]
  },
  {
   "cell_type": "code",
   "execution_count": 4,
   "metadata": {},
   "outputs": [
    {
     "name": "stdout",
     "output_type": "stream",
     "text": [
      "www.way2sms.com\n",
      "DIGITS 1\n",
      "ALPHA 12\n",
      "OTHERS 2\n"
     ]
    }
   ],
   "source": [
    "# Print the number of digits, alphabets and any other\n",
    "s = input()\n",
    "digits = 0\n",
    "alpha = 0\n",
    "others = 0\n",
    "for i in s:\n",
    "    if (i.isdigit() == True):\n",
    "        digits += 1\n",
    "    elif(i.isalpha() == True):\n",
    "        alpha +=1\n",
    "    else:\n",
    "        others+=1\n",
    "        \n",
    "print(\"DIGITS\",digits)\n",
    "print(\"ALPHA\",alpha)\n",
    "print(\"OTHERS\",others)"
   ]
  },
  {
   "cell_type": "code",
   "execution_count": 24,
   "metadata": {},
   "outputs": [
    {
     "name": "stdout",
     "output_type": "stream",
     "text": [
      "1 3 5 7 9 \n",
      "\n",
      "2 4 6 8 10 "
     ]
    }
   ],
   "source": [
    "#Print even and odd numbers up to given range.\n",
    "\n",
    "def numbers():\n",
    "    li = [i for i in range(1,10+1)]\n",
    "#print(li[::2])\n",
    "#print(li[1::2])\n",
    "    for i in li[::2]:\n",
    "        print(i,end=\" \")\n",
    "    print('\\n')\n",
    "    for i in li[1::2]:\n",
    "        print(i,end=\" \")\n",
    "numbers()    \n",
    "    \n",
    "  "
   ]
  },
  {
   "cell_type": "code",
   "execution_count": 24,
   "metadata": {},
   "outputs": [
    {
     "name": "stdout",
     "output_type": "stream",
     "text": [
      "9\n",
      "2 3 5 7 "
     ]
    }
   ],
   "source": [
    "# Print prime numbers up to given range.\n",
    "s=int(input())\n",
    "for i in range(2,s):\n",
    "    count = 0\n",
    "    for k in range(1,i+1):\n",
    "        if (i % k == 0):\n",
    "            count = count + 1\n",
    "    if(count == 2):\n",
    "        print(i,end=\" \")      "
   ]
  },
  {
   "cell_type": "code",
   "execution_count": 45,
   "metadata": {},
   "outputs": [
    {
     "name": "stdout",
     "output_type": "stream",
     "text": [
      "43\n",
      "43 True\n"
     ]
    }
   ],
   "source": [
    "# print given numbers prime or not.\n",
    "\n",
    "s=int(input())\n",
    "count = 0\n",
    "for i in range(1,s+1):\n",
    "    if (s % i == 0):\n",
    "        count = count + 1\n",
    "if(count == 2):\n",
    "    print(s,True)\n",
    "else:\n",
    "    print(s,False)\n",
    "        "
   ]
  },
  {
   "cell_type": "code",
   "execution_count": 57,
   "metadata": {},
   "outputs": [
    {
     "name": "stdout",
     "output_type": "stream",
     "text": [
      "33 49 99\n",
      "49\n"
     ]
    }
   ],
   "source": [
    "# Print second Max \n",
    "s = input().split()\n",
    "li=[]\n",
    "for i in s:\n",
    "    li.append(i)\n",
    "    li.sort()\n",
    "print(li[1])\n",
    "    "
   ]
  },
  {
   "cell_type": "code",
   "execution_count": 77,
   "metadata": {},
   "outputs": [
    {
     "name": "stdout",
     "output_type": "stream",
     "text": [
      "2\n",
      "5\n",
      "120\n",
      "4\n",
      "16\n"
     ]
    }
   ],
   "source": [
    "# Print factorial of a given number if it is a prime otherwise print power of the value\n",
    "t=int(input())\n",
    "for i in range(1,t+1):\n",
    "    s=int(input())\n",
    "    count = 0\n",
    "    fact=1\n",
    "    for i in range(1,s+1):\n",
    "        if (s % i == 0):\n",
    "            count = count + 1\n",
    "    if(count == 2):\n",
    "        for i in range(1,s+1):\n",
    "            fact=fact*i\n",
    "        print(fact)\n",
    "    else:\n",
    "        print(s**2)\n",
    " \n",
    "        "
   ]
  },
  {
   "cell_type": "code",
   "execution_count": 89,
   "metadata": {},
   "outputs": [
    {
     "name": "stdout",
     "output_type": "stream",
     "text": [
      "2\n",
      "b\n",
      "b\n",
      "hello\n",
      "120\n"
     ]
    }
   ],
   "source": [
    "# Print factorial of a value if the length of a string is  prime otherwise print string in reverse\n",
    "t=int(input())\n",
    "for i in range(1,t+1):\n",
    "    s=input()\n",
    "    count = 0\n",
    "    fact=1\n",
    "    x =len(s)\n",
    "    for i in range(1,x+1):\n",
    "        if (x % i == 0):\n",
    "            count = count + 1\n",
    "    if(count == 2):\n",
    "        for i in range(1,x+1):\n",
    "            fact=fact*i\n",
    "        print(fact)\n",
    "    else:\n",
    "        print(s[::-1])\n",
    " \n",
    "        "
   ]
  },
  {
   "cell_type": "code",
   "execution_count": null,
   "metadata": {},
   "outputs": [],
   "source": []
  },
  {
   "cell_type": "code",
   "execution_count": 6,
   "metadata": {},
   "outputs": [
    {
     "name": "stdout",
     "output_type": "stream",
     "text": [
      "2\n",
      "5\n",
      "1 5\n",
      "3 7 5 2 1\n",
      "5 18\n"
     ]
    }
   ],
   "source": [
    "# print count and sum of digits in a given string \n",
    "t= int(input())\n",
    "for i in range(1,t+1):\n",
    "    s= input().split()\n",
    "    li =(list(map(int,s)))\n",
    "    print(len(li),sum(li))\n"
   ]
  },
  {
   "cell_type": "markdown",
   "metadata": {},
   "source": [
    "#### 5- Print all the words which word contains duplicate characters\n",
    "ramu akash balu\n",
    "akash\n"
   ]
  },
  {
   "cell_type": "code",
   "execution_count": 93,
   "metadata": {},
   "outputs": [
    {
     "name": "stdout",
     "output_type": "stream",
     "text": [
      "ramu ravi babu\n",
      "babu\n"
     ]
    }
   ],
   "source": [
    "names=input().split()\n",
    "for name in names:\n",
    "    for ch in name:\n",
    "        if name.count(ch)>1:\n",
    "            print(name)\n",
    "            break"
   ]
  },
  {
   "cell_type": "code",
   "execution_count": null,
   "metadata": {},
   "outputs": [],
   "source": []
  },
  {
   "cell_type": "code",
   "execution_count": null,
   "metadata": {},
   "outputs": [],
   "source": []
  },
  {
   "cell_type": "code",
   "execution_count": null,
   "metadata": {},
   "outputs": [],
   "source": []
  }
 ],
 "metadata": {
  "kernelspec": {
   "display_name": "Python 3",
   "language": "python",
   "name": "python3"
  },
  "language_info": {
   "codemirror_mode": {
    "name": "ipython",
    "version": 3
   },
   "file_extension": ".py",
   "mimetype": "text/x-python",
   "name": "python",
   "nbconvert_exporter": "python",
   "pygments_lexer": "ipython3",
   "version": "3.7.3"
  }
 },
 "nbformat": 4,
 "nbformat_minor": 2
}
