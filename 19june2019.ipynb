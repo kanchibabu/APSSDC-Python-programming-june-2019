{
 "cells": [
  {
   "cell_type": "code",
   "execution_count": 6,
   "metadata": {},
   "outputs": [
    {
     "name": "stdout",
     "output_type": "stream",
     "text": [
      "5\n",
      "1 2 3 4 5\n",
      "120\n"
     ]
    }
   ],
   "source": [
    "n = int(input())\n",
    "a=input()\n",
    "b=a.split()\n",
    "l=[]\n",
    "for i in b:\n",
    "    l.append(int(i))\n",
    "\n",
    "\n",
    "def product(n):\n",
    "    z=1\n",
    "    for i in l:\n",
    "        z=(z*i)%(10**9+7)\n",
    "    print(z)\n",
    "product(n)"
   ]
  },
  {
   "cell_type": "code",
   "execution_count": 8,
   "metadata": {},
   "outputs": [
    {
     "name": "stdout",
     "output_type": "stream",
     "text": [
      "5 3\n",
      "1 2 3 4 5\n",
      "1 3\n",
      "2\n",
      "2 4\n",
      "3\n",
      "2 5\n",
      "3\n"
     ]
    }
   ],
   "source": [
    "n=input().split()\n",
    "n[0],n[1]=int(n[0]),int(n[1])\n",
    "\n",
    "a=input().split() #read array elements\n",
    "\n",
    "sum=[] #initialize cumilative sum array\n",
    "\n",
    "#cumulative sum\n",
    "for i in range(0,n[0]):\n",
    "    if i==0:\n",
    "        sum.append(int(a[i]))\n",
    "    else:\n",
    "        sum.append(int(sum[i-1])+int(a[i]))\n",
    "\n",
    "del a\n",
    "\n",
    "# Read each query and calculate the average\n",
    "for k in range(0,n[1]):\n",
    "    y=input().split()\n",
    "    i=int(y[0])\n",
    "    j=int(y[1])\n",
    "    if i>1:\n",
    "        print((sum[j-1]-sum[i-2])//(j-i+1))\n",
    "    else:\n",
    "        print(sum[j-1]//(j-i+1))\n"
   ]
  },
  {
   "cell_type": "code",
   "execution_count": null,
   "metadata": {},
   "outputs": [],
   "source": []
  }
 ],
 "metadata": {
  "kernelspec": {
   "display_name": "Python 3",
   "language": "python",
   "name": "python3"
  },
  "language_info": {
   "codemirror_mode": {
    "name": "ipython",
    "version": 3
   },
   "file_extension": ".py",
   "mimetype": "text/x-python",
   "name": "python",
   "nbconvert_exporter": "python",
   "pygments_lexer": "ipython3",
   "version": "3.7.3"
  }
 },
 "nbformat": 4,
 "nbformat_minor": 2
}
