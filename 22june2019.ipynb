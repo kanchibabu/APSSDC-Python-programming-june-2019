{
 "cells": [
  {
   "cell_type": "markdown",
   "metadata": {},
   "source": [
    "#### Date : 22 june 2019\n",
    "\n",
    "#### Day objectives\n",
    "\n",
    "- File Handiling\n",
    "    - Basic file data processing\n",
    "        - Acessing and modifying file data\n",
    "    - Character count \n",
    "    - Line Count\n",
    "    - File Size\n",
    "    - Word Count\n",
    "    - Unique Word count"
   ]
  },
  {
   "cell_type": "code",
   "execution_count": 2,
   "metadata": {},
   "outputs": [
    {
     "name": "stdout",
     "output_type": "stream",
     "text": [
      "new data\n",
      "Line2 \n",
      "15\n"
     ]
    }
   ],
   "source": [
    "# Read a file(read mode) - file should exists in some part of the storage\n",
    "#write a file - Existing(append mode) or New file(write mode)\n",
    "def readfile(filepath):\n",
    "    with open(filepath, 'r') as f: # f is io.TextIOWrapper i.e textfile object\n",
    "        filedata = f.read()\n",
    "    return filedata\n",
    "filepath = 'DataFiles/data.txt'\n",
    "print(readfile(filepath))\n",
    "print(len(readfile(filepath)))\n"
   ]
  },
  {
   "cell_type": "code",
   "execution_count": 3,
   "metadata": {},
   "outputs": [
    {
     "name": "stdout",
     "output_type": "stream",
     "text": [
      "total number of characters : 12\n"
     ]
    }
   ],
   "source": [
    "def charactercount(filepath):\n",
    "    count = 0\n",
    "    with open(filepath,'r') as f:\n",
    "        filepath = 'DataFiles/data.txt'\n",
    "        filedata = f.read()\n",
    "        for i in filedata:\n",
    "            if i.isspace() != True:\n",
    "                count = count + 1\n",
    "        print(\"total number of characters :\", count)\n",
    "\n",
    "charactercount(filepath)"
   ]
  },
  {
   "cell_type": "code",
   "execution_count": 4,
   "metadata": {},
   "outputs": [
    {
     "name": "stdout",
     "output_type": "stream",
     "text": [
      "number of line : 2\n"
     ]
    }
   ],
   "source": [
    "filepath = 'DataFiles/data.txt'\n",
    "count = 0\n",
    "with open(filepath,'r') as f:\n",
    "    filedata = f.readlines()\n",
    "    \n",
    "print(\"number of line :\", len(filedata))\n"
   ]
  },
  {
   "cell_type": "code",
   "execution_count": 5,
   "metadata": {},
   "outputs": [
    {
     "data": {
      "text/plain": [
       "15"
      ]
     },
     "execution_count": 5,
     "metadata": {},
     "output_type": "execute_result"
    }
   ],
   "source": [
    "import os\n",
    "filepath = 'DataFiles/data.txt'\n",
    "os.path.getsize(filepath)\n"
   ]
  },
  {
   "cell_type": "code",
   "execution_count": 6,
   "metadata": {},
   "outputs": [
    {
     "name": "stdout",
     "output_type": "stream",
     "text": [
      "number of words : 3\n"
     ]
    }
   ],
   "source": [
    "def wordcount(filepath):\n",
    "    filepath = 'DataFiles/data.txt'\n",
    "    with open(filepath,'r') as f:\n",
    "            s = f.read().split()\n",
    "            print(\"number of words :\", len(s)) \n",
    "wordcount(filepath)\n",
    "def wordexisting(filepath):\n",
    "    word = ()\n",
    "    filepath = 'DataFiles/Data.txt'\n",
    "    with open(filepath, 'r') as f:\n",
    "        s = f.read().split()\n",
    "        for i in filedata:\n",
    "            if word == i\n",
    "        "
   ]
  },
  {
   "cell_type": "code",
   "execution_count": 7,
   "metadata": {},
   "outputs": [
    {
     "name": "stdout",
     "output_type": "stream",
     "text": [
      "Unique words: 3\n"
     ]
    }
   ],
   "source": [
    "with open(filepath, 'r') as file:\n",
    "    filepath = 'DataFiles/data.txt'\n",
    "    lines = file.read().splitlines()\n",
    "\n",
    "    uniques = set()\n",
    "    for line in lines:\n",
    "        uniques |= set(line.split())\n",
    "\n",
    "    print(f\"Unique words: {len(uniques)}\")"
   ]
  },
  {
   "cell_type": "code",
   "execution_count": 12,
   "metadata": {},
   "outputs": [
    {
     "ename": "NameError",
     "evalue": "name 'li' is not defined",
     "output_type": "error",
     "traceback": [
      "\u001b[1;31m---------------------------------------------------------------------------\u001b[0m",
      "\u001b[1;31mNameError\u001b[0m                                 Traceback (most recent call last)",
      "\u001b[1;32m<ipython-input-12-493c88455277>\u001b[0m in \u001b[0;36m<module>\u001b[1;34m\u001b[0m\n\u001b[0;32m      6\u001b[0m             \u001b[0munique\u001b[0m\u001b[1;33m.\u001b[0m\u001b[0mappend\u001b[0m\u001b[1;33m(\u001b[0m\u001b[0melement\u001b[0m\u001b[1;33m)\u001b[0m\u001b[1;33m\u001b[0m\u001b[1;33m\u001b[0m\u001b[0m\n\u001b[0;32m      7\u001b[0m     \u001b[0mprint\u001b[0m\u001b[1;33m(\u001b[0m\u001b[0munique\u001b[0m\u001b[1;33m)\u001b[0m\u001b[1;33m\u001b[0m\u001b[1;33m\u001b[0m\u001b[0m\n\u001b[1;32m----> 8\u001b[1;33m \u001b[0muniquelist\u001b[0m\u001b[1;33m(\u001b[0m\u001b[0mli\u001b[0m\u001b[1;33m)\u001b[0m\u001b[1;33m\u001b[0m\u001b[1;33m\u001b[0m\u001b[0m\n\u001b[0m",
      "\u001b[1;31mNameError\u001b[0m: name 'li' is not defined"
     ]
    }
   ],
   "source": [
    "def uniquelist(li):\n",
    "    li =input().split()\n",
    "    unique=[]\n",
    "    for element in li:\n",
    "        if element not in unique:\n",
    "            unique.append(element)\n",
    "    print(unique)\n",
    "uniquelist(li)"
   ]
  },
  {
   "cell_type": "code",
   "execution_count": 11,
   "metadata": {},
   "outputs": [
    {
     "name": "stdout",
     "output_type": "stream",
     "text": [
      "number of words : 3\n"
     ]
    }
   ],
   "source": [
    "def wordcount(filepath):\n",
    "    filepath = 'DataFiles/Data.txt'\n",
    "    with open(filepath,'r') as f:\n",
    "            s = f.read().split()\n",
    "            print(\"number of words :\", len(s)) \n",
    "wordcount(filepath)"
   ]
  },
  {
   "cell_type": "code",
   "execution_count": 28,
   "metadata": {},
   "outputs": [
    {
     "name": "stdout",
     "output_type": "stream",
     "text": [
      "{'new': 1, 'data': 1, 'Line': 3, '2': 1, '3': 1, '4': 1}\n"
     ]
    }
   ],
   "source": [
    "def uniquecount(filepath):\n",
    "    count = {}\n",
    "    filepath = 'DataFiles/Data.txt'\n",
    "    with open(filepath, 'r') as f:\n",
    "        filedata = f.read()\n",
    "        li = filedata.split()\n",
    "        for i in li:\n",
    "            if i in count:\n",
    "                count[i] += 1\n",
    "            else:\n",
    "                count[i] =1\n",
    "    print(count)\n",
    "uniquecount(filepath)"
   ]
  },
  {
   "cell_type": "code",
   "execution_count": null,
   "metadata": {},
   "outputs": [],
   "source": [
    "# Find and replace Appilication \n",
    "    # Count the total number of occurances of a word\n",
    "    # If word is existing \n",
    "    # Replace all occurances of a word with another word\n",
    "    \n",
    "# Marks analaysis Appilication \n",
    "    # Generate the marks file for n students \n",
    "    # Input text file - each line in the text file contains marks of one student\n",
    "    # Genearates a report with the follwing information\n",
    "        #  Class Average \n",
    "        #  % of students passed\n",
    "        #  % of students failed\n",
    "        #  % of students with distinction "
   ]
  },
  {
   "cell_type": "code",
   "execution_count": 4,
   "metadata": {},
   "outputs": [],
   "source": [
    "from random import randint\n",
    "def generatemarks(n,lb,ub):\n",
    "    with open ('DataFiles/marks.txt', 'w') as f:\n",
    "        for i in range(0,n):\n",
    "            r = randint(lb,ub)\n",
    "            f.write(str(r)+ '\\n')\n",
    "    return\n",
    "generatemarks(4,0,50)"
   ]
  },
  {
   "cell_type": "code",
   "execution_count": null,
   "metadata": {},
   "outputs": [],
   "source": []
  },
  {
   "cell_type": "code",
   "execution_count": null,
   "metadata": {},
   "outputs": [],
   "source": []
  },
  {
   "cell_type": "code",
   "execution_count": null,
   "metadata": {},
   "outputs": [],
   "source": []
  },
  {
   "cell_type": "code",
   "execution_count": null,
   "metadata": {},
   "outputs": [],
   "source": []
  },
  {
   "cell_type": "code",
   "execution_count": null,
   "metadata": {},
   "outputs": [],
   "source": []
  },
  {
   "cell_type": "code",
   "execution_count": null,
   "metadata": {},
   "outputs": [],
   "source": []
  },
  {
   "cell_type": "code",
   "execution_count": null,
   "metadata": {},
   "outputs": [],
   "source": []
  },
  {
   "cell_type": "code",
   "execution_count": null,
   "metadata": {},
   "outputs": [],
   "source": []
  },
  {
   "cell_type": "code",
   "execution_count": null,
   "metadata": {},
   "outputs": [],
   "source": []
  },
  {
   "cell_type": "code",
   "execution_count": null,
   "metadata": {},
   "outputs": [],
   "source": []
  },
  {
   "cell_type": "code",
   "execution_count": 29,
   "metadata": {},
   "outputs": [
    {
     "name": "stdout",
     "output_type": "stream",
     "text": [
      "new : 1\n",
      "data : 1\n",
      "Line : 3\n",
      "2 : 1\n",
      "3 : 1\n",
      "4 : 1\n"
     ]
    }
   ],
   "source": [
    "def uniquecount(filepath):\n",
    "    c = 0\n",
    "    unique = []\n",
    "    with open(filepath,'r') as f:\n",
    "        filedata = f.read().split()\n",
    "        for i in filedata:\n",
    "            k = i\n",
    "            if k not in unique:\n",
    "                unique.append(k)\n",
    "                for j in filedata:\n",
    "                    if k == j:\n",
    "                        c = c + 1\n",
    "                print(k, ':', c)\n",
    "                c = 0\n",
    "    return\n",
    "uniquecount(filepath)\n",
    "        "
   ]
  },
  {
   "cell_type": "code",
   "execution_count": null,
   "metadata": {},
   "outputs": [],
   "source": []
  },
  {
   "cell_type": "code",
   "execution_count": null,
   "metadata": {},
   "outputs": [],
   "source": []
  },
  {
   "cell_type": "code",
   "execution_count": null,
   "metadata": {},
   "outputs": [],
   "source": []
  },
  {
   "cell_type": "code",
   "execution_count": null,
   "metadata": {},
   "outputs": [],
   "source": []
  },
  {
   "cell_type": "code",
   "execution_count": null,
   "metadata": {},
   "outputs": [],
   "source": []
  },
  {
   "cell_type": "code",
   "execution_count": null,
   "metadata": {},
   "outputs": [],
   "source": []
  },
  {
   "cell_type": "code",
   "execution_count": null,
   "metadata": {},
   "outputs": [],
   "source": []
  },
  {
   "cell_type": "code",
   "execution_count": null,
   "metadata": {},
   "outputs": [],
   "source": []
  },
  {
   "cell_type": "code",
   "execution_count": null,
   "metadata": {},
   "outputs": [],
   "source": []
  },
  {
   "cell_type": "code",
   "execution_count": null,
   "metadata": {},
   "outputs": [],
   "source": []
  },
  {
   "cell_type": "code",
   "execution_count": null,
   "metadata": {},
   "outputs": [],
   "source": []
  },
  {
   "cell_type": "code",
   "execution_count": null,
   "metadata": {},
   "outputs": [],
   "source": []
  }
 ],
 "metadata": {
  "kernelspec": {
   "display_name": "Python 3",
   "language": "python",
   "name": "python3"
  },
  "language_info": {
   "codemirror_mode": {
    "name": "ipython",
    "version": 3
   },
   "file_extension": ".py",
   "mimetype": "text/x-python",
   "name": "python",
   "nbconvert_exporter": "python",
   "pygments_lexer": "ipython3",
   "version": "3.7.3"
  }
 },
 "nbformat": 4,
 "nbformat_minor": 2
}
