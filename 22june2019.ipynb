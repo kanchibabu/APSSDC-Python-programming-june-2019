{
 "cells": [
  {
   "cell_type": "markdown",
   "metadata": {},
   "source": [
    "#### Date : 22 june 2019\n",
    "\n",
    "#### Day objectives\n",
    "\n",
    "- File Handiling\n",
    "    - Basic file data processing\n",
    "        - Acessing and modifying file data\n",
    "    - Character count \n",
    "    - Line Count\n",
    "    - File Size\n",
    "    - Word Count\n",
    "    - Unique Word count"
   ]
  },
  {
   "cell_type": "code",
   "execution_count": 9,
   "metadata": {},
   "outputs": [
    {
     "name": "stdout",
     "output_type": "stream",
     "text": [
      "new dataLine2 \n",
      " Line3\n",
      "21\n"
     ]
    }
   ],
   "source": [
    "# Read a file(read mode) - file should exists in some part of the storage\n",
    "#write a file - Existing(append mode) or New file(write mode)\n",
    "def readfile(filepath):\n",
    "    with open(filepath, 'r') as f: # f is io.TextIOWrapper i.e textfile object\n",
    "        filedata = f.read()\n",
    "    return filedata\n",
    "filepath = 'DataFiles/data.txt'\n",
    "print(readfile(filepath))\n",
    "print(len(readfile(filepath)))\n"
   ]
  },
  {
   "cell_type": "code",
   "execution_count": 14,
   "metadata": {},
   "outputs": [
    {
     "name": "stdout",
     "output_type": "stream",
     "text": [
      "total number of characters : 17\n"
     ]
    }
   ],
   "source": [
    "def charactercount(filepath):\n",
    "    count = 0\n",
    "    with open(filepath,'r') as f:\n",
    "        filepath = 'DataFiles/data.txt'\n",
    "        filedata = f.read()\n",
    "        for i in filedata:\n",
    "            if i.isspace() != True:\n",
    "                count = count + 1\n",
    "        print(\"total number of characters :\", count)\n",
    "\n",
    "charactercount(filepath)"
   ]
  },
  {
   "cell_type": "code",
   "execution_count": 82,
   "metadata": {},
   "outputs": [
    {
     "name": "stdout",
     "output_type": "stream",
     "text": [
      "number of line : 2\n"
     ]
    }
   ],
   "source": [
    "filepath = 'DataFiles/data.txt'\n",
    "count = 0\n",
    "with open(filepath,'r') as f:\n",
    "    filedata = f.readlines()\n",
    "    \n",
    "print(\"number of line :\", len(filedata))\n"
   ]
  },
  {
   "cell_type": "code",
   "execution_count": 59,
   "metadata": {},
   "outputs": [
    {
     "data": {
      "text/plain": [
       "15"
      ]
     },
     "execution_count": 59,
     "metadata": {},
     "output_type": "execute_result"
    }
   ],
   "source": [
    "import os\n",
    "filepath = 'DataFiles/data.txt'\n",
    "os.path.getsize(filepath)\n"
   ]
  },
  {
   "cell_type": "code",
   "execution_count": 83,
   "metadata": {},
   "outputs": [
    {
     "name": "stdout",
     "output_type": "stream",
     "text": [
      "number of words : 3\n"
     ]
    }
   ],
   "source": [
    "def wordcount(filepath):\n",
    "    filepath = 'DataFiles/data.txt'\n",
    "    with open(filepath,'r') as f:\n",
    "            s = f.read().split()\n",
    "            print(\"number of words :\", len(s)) \n",
    "wordcount(filepath)\n",
    "def uniquewords(filepath):\n",
    "    "
   ]
  },
  {
   "cell_type": "code",
   "execution_count": 89,
   "metadata": {},
   "outputs": [
    {
     "name": "stdout",
     "output_type": "stream",
     "text": [
      "Unique words: 3\n"
     ]
    }
   ],
   "source": [
    "with open(filepath, 'r') as file:\n",
    "    filepath = 'DataFiles/data.txt'\n",
    "    lines = file.read().splitlines()\n",
    "\n",
    "    uniques = set()\n",
    "    for line in lines:\n",
    "        uniques |= set(line.split())\n",
    "\n",
    "    print(f\"Unique words: {len(uniques)}\")"
   ]
  },
  {
   "cell_type": "code",
   "execution_count": null,
   "metadata": {},
   "outputs": [],
   "source": []
  },
  {
   "cell_type": "code",
   "execution_count": null,
   "metadata": {},
   "outputs": [],
   "source": []
  },
  {
   "cell_type": "code",
   "execution_count": null,
   "metadata": {},
   "outputs": [],
   "source": []
  },
  {
   "cell_type": "code",
   "execution_count": null,
   "metadata": {},
   "outputs": [],
   "source": []
  },
  {
   "cell_type": "code",
   "execution_count": null,
   "metadata": {},
   "outputs": [],
   "source": []
  },
  {
   "cell_type": "code",
   "execution_count": null,
   "metadata": {},
   "outputs": [],
   "source": []
  },
  {
   "cell_type": "code",
   "execution_count": null,
   "metadata": {},
   "outputs": [],
   "source": []
  },
  {
   "cell_type": "code",
   "execution_count": null,
   "metadata": {},
   "outputs": [],
   "source": []
  },
  {
   "cell_type": "code",
   "execution_count": null,
   "metadata": {},
   "outputs": [],
   "source": []
  },
  {
   "cell_type": "code",
   "execution_count": null,
   "metadata": {},
   "outputs": [],
   "source": []
  }
 ],
 "metadata": {
  "kernelspec": {
   "display_name": "Python 3",
   "language": "python",
   "name": "python3"
  },
  "language_info": {
   "codemirror_mode": {
    "name": "ipython",
    "version": 3
   },
   "file_extension": ".py",
   "mimetype": "text/x-python",
   "name": "python",
   "nbconvert_exporter": "python",
   "pygments_lexer": "ipython3",
   "version": "3.7.3"
  }
 },
 "nbformat": 4,
 "nbformat_minor": 2
}
