{
 "cells": [
  {
   "cell_type": "markdown",
   "metadata": {},
   "source": [
    "# Function to toggle string\n",
    "\n",
    "s.isupper() # check the given string is upper or not <BR>\n",
    "s.islower() # check the given string is lower or not <BR>\n",
    "s.upper() # to change the given string into upper case <BR>\n",
    "s.lower() # to change the gven string into lower case <BR>\n"
   ]
  },
  {
   "cell_type": "code",
   "execution_count": null,
   "metadata": {},
   "outputs": [],
   "source": [
    "\n",
    "def minutedifference(s):\n",
    "    s=s.split()\n",
    "    sh = int(s[0])\n",
    "    sm = int(s[1])\n",
    "    eh = int(s[2])\n",
    "    em = int(s[3])\n",
    "    startminutes = (sh * 60) + sm\n",
    "    endminutes = (eh * 60) + em\n",
    "    return endminutes - startminutes\n",
    "\n",
    "def outputtimeformate(minutes):\n",
    "    hh = minutes// 60\n",
    "    mm = minutes % 60\n",
    "    print(hh, mm)\n",
    "    return\n",
    "\n",
    "n = int(input())\n",
    "for i in range(n):\n",
    "    s = input()\n",
    "    minutes = minutedifference(s)\n",
    "    outputtimeformate(minutes)"
   ]
  },
  {
   "cell_type": "markdown",
   "metadata": {},
   "source": [
    "# s = \"abc\"\n",
    "s.split()\n",
    "list(s)\n",
    "l1 = s[0]\n",
    "l2 = s[1]\n",
    "l3 = s[2]"
   ]
  },
  {
   "cell_type": "code",
   "execution_count": null,
   "metadata": {},
   "outputs": [],
   "source": [
    "def ispositivedivisiors(n):\n",
    "    z = 0\n",
    "    for i in range(1, n):\n",
    "        \n",
    "        if n % i == 0:\n",
    "            z = z + i\n",
    "      \n",
    "    if z == n:\n",
    "        print(\"Yes\")\n",
    "    else:\n",
    "        print(\"No\")\n",
    "ispositivedivisiors(5)"
   ]
  },
  {
   "cell_type": "code",
   "execution_count": null,
   "metadata": {},
   "outputs": [],
   "source": [
    "s = (\"abc123\")\n",
    "s = list(s)\n",
    "def isalphabet(s):\n",
    "    count = 0\n",
    "    z = 0\n",
    "    for i in s:\n",
    "        if (i>='a' and i<='z') or (i>='A' and i<='Z'):\n",
    "            count += 1\n",
    "        if(i.isdigit()):\n",
    "            z = z + 1\n",
    "    print(count)\n",
    "    print(z)\n",
    "isalphabet(\"aBC12343456789\")"
   ]
  },
  {
   "cell_type": "code",
   "execution_count": null,
   "metadata": {},
   "outputs": [],
   "source": [
    "def highestremainder(n):\n",
    "    hr = 0\n",
    "    v = n\n",
    "    for i in range(n-1, n // 2, -1):\n",
    "        r = n % i\n",
    "        if r > hr:\n",
    "            hr = r\n",
    "            v = i\n",
    "    print(v)\n",
    "    return\n",
    "highestremainder(30)"
   ]
  },
  {
   "cell_type": "code",
   "execution_count": null,
   "metadata": {},
   "outputs": [],
   "source": [
    "def ispositivedivisiors(n):\n",
    "    li =\n",
    "    for i in range(1, n):\n",
    "        if n % i == 0:\n",
    "            li += i\n",
    "ispositivedivisiors(6)      \n",
    "   "
   ]
  },
  {
   "cell_type": "code",
   "execution_count": null,
   "metadata": {},
   "outputs": [],
   "source": [
    "# Function to check the special number (p) in a prime factors\n",
    "# Function to check the prime number\n",
    "# Function to check the number of primefactors\n",
    "def isspecialnumber(n, p):\n",
    "    if numberprimefactors(n) >= p:\n",
    "        return True\n",
    "    return False\n",
    "def isprime(n):\n",
    "    flag = 1\n",
    "    if n == 2:\n",
    "        return True\n",
    "    for i in range(2, n//2 + 1):\n",
    "        if n % i == 0:\n",
    "            flag = 0\n",
    "            return False\n",
    "    if flag == 1:\n",
    "        return True\n",
    "def numberprimefactors(n):\n",
    "    if isprime(n):\n",
    "        return 1\n",
    "    count = 0\n",
    "    for i in range (2, n // 2 + 1):\n",
    "        if isprime(i) and n % i == 0:\n",
    "            count += 1\n",
    "    return count\n",
    "def solution2():\n",
    "    p = int(input())\n",
    "    t = int(input())\n",
    "isspecialnumber(6, 2)\n",
    "    "
   ]
  },
  {
   "cell_type": "code",
   "execution_count": null,
   "metadata": {},
   "outputs": [],
   "source": []
  },
  {
   "cell_type": "markdown",
   "metadata": {},
   "source": [
    "### Highest Remainder"
   ]
  },
  {
   "cell_type": "code",
   "execution_count": null,
   "metadata": {},
   "outputs": [],
   "source": [
    "def highestRemainder(n):\n",
    "    hr=0\n",
    "    v=n\n",
    "    for i in range(n-1,n//2,-1):\n",
    "        r=n%i\n",
    "        if r>hr:\n",
    "            hr=r\n",
    "            v=i\n",
    "    print(v)\n",
    "    return\n",
    "    \n",
    "highestRemainder(10)  "
   ]
  },
  {
   "cell_type": "code",
   "execution_count": null,
   "metadata": {},
   "outputs": [],
   "source": [
    "def perfectnumbers(n):\n",
    "    sum = 0\n",
    "    for i in range(1, n):\n",
    "        if (n % i == 0):\n",
    "            sum += i\n",
    "    if ( n == sum):\n",
    "        print(\"Yes\")\n",
    "    else:\n",
    "        print(\"NO\")\n",
    "perfectnumbers(28)"
   ]
  },
  {
   "cell_type": "code",
   "execution_count": null,
   "metadata": {},
   "outputs": [],
   "source": []
  },
  {
   "cell_type": "code",
   "execution_count": null,
   "metadata": {},
   "outputs": [],
   "source": [
    "def samecstring(n1,n2):\n",
    "    n1 = raw_input(\"Enter the first string\")\n",
    "    n2 = raw_input(\"Enter the second string\")\n",
    "    n1 = sorted(n1)\n",
    "    n2 = sorted(n2)\n",
    "    for i in range(1,n):\n",
    "        if (sorted(n1) == sorted(n2)):\n",
    "            print(\"It is anagram\")\n",
    "        else:\n",
    "            print(\"It is not anagram\")\n",
    "samestring(n1, n2)"
   ]
  },
  {
   "cell_type": "code",
   "execution_count": null,
   "metadata": {
    "scrolled": true
   },
   "outputs": [],
   "source": [
    "n1 = input(\"Enter the first string\")\n",
    "n2 = input(\"Enter the second string\")\n",
    "for i in n1,n2:\n",
    "    if sorted(n1[i]) == sorted(n2[i]):\n",
    "        \n",
    "        \n",
    "#if sorted(n1) == sorted(n2):\n",
    "   # print(\"Yes\")\n",
    "#else:\n",
    "    #print(\"No\")\n",
    "#sorted(n1)== sorted(n2)"
   ]
  },
  {
   "cell_type": "code",
   "execution_count": null,
   "metadata": {},
   "outputs": [],
   "source": [
    "def findproduct(n):\n",
    "    li = input(\"Enter the values\")\n",
    "    li = li.split()\n",
    "    for i in range(1, li, -1):\n",
    "        li = li * i \n",
    "    print(li)\n",
    "    return\n",
    "findproduct(5)\n",
    "\n",
    "        \n",
    "        \n",
    "    \n",
    "    "
   ]
  },
  {
   "cell_type": "code",
   "execution_count": 4,
   "metadata": {},
   "outputs": [],
   "source": [
    "def product(n):\n",
    "    n = int(input())\n",
    "    li=input(\"enter the :\")\n",
    "    z = 1\n",
    "    for i in range(1,n+1):\n",
    "        a=list(li)\n",
    "    print(a)\n",
    "    for i in a:\n",
    "        z = z* int(i)%(10**9+7)\n",
    "    print(z)\n",
    "\n",
    "\n",
    "    "
   ]
  },
  {
   "cell_type": "markdown",
   "metadata": {},
   "source": [
    "##### li = input(\"enter the v\")\n",
    "z = list(li)\n",
    "print(z)"
   ]
  },
  {
   "cell_type": "code",
   "execution_count": 4,
   "metadata": {},
   "outputs": [
    {
     "name": "stdout",
     "output_type": "stream",
     "text": [
      "5\n",
      "1 2 3 4 5 6\n",
      "720\n"
     ]
    }
   ],
   "source": [
    "n = int(input())\n",
    "a=input()\n",
    "b=a.split()\n",
    "l=[]\n",
    "for i in b:\n",
    "    l.append(int(i))\n",
    "\n",
    "\n",
    "def product(n):\n",
    "    z=1\n",
    "    for i in l:\n",
    "        z=(z*i)%(10**9+7)\n",
    "    print(z)\n",
    "product(n)"
   ]
  },
  {
   "cell_type": "code",
   "execution_count": 14,
   "metadata": {},
   "outputs": [
    {
     "name": "stdout",
     "output_type": "stream",
     "text": [
      "5\n",
      " 2 3 4 5 6\n",
      "720\n"
     ]
    }
   ],
   "source": [
    "n = int(input())\n",
    "a=input()\n",
    "b=a.split()\n",
    "l=[]\n",
    "for i in b:\n",
    "    l.append(int(i))\n",
    "\n",
    "\n",
    "def product(n):\n",
    "    z=1\n",
    "    for i in l:\n",
    "        z=(z*i)%(10**9+7)\n",
    "    print(z)\n",
    "product(n)"
   ]
  },
  {
   "cell_type": "markdown",
   "metadata": {},
   "source": []
  },
  {
   "cell_type": "code",
   "execution_count": null,
   "metadata": {},
   "outputs": [
    {
     "name": "stdout",
     "output_type": "stream",
     "text": [
      "500000 500000\n"
     ]
    }
   ],
   "source": [
    "n=input().split()\n",
    "n[0],n[1]=int(n[0]),int(n[1])\n",
    "\n",
    "a=input().split() #read array elements\n",
    "\n",
    "sum=[] #initialize cumilative sum array\n",
    "\n",
    "#cumulative sum\n",
    "for i in range(0,n[0]):\n",
    "    if i==0:\n",
    "        sum.append(int(a[i]))\n",
    "    else:\n",
    "        sum.append(int(sum[i-1])+int(a[i]))\n",
    "\n",
    "del a\n",
    "\n",
    "# Read each query and calculate the average\n",
    "for k in range(0,n[1]):\n",
    "    y=input().split()\n",
    "    i=int(y[0])\n",
    "    j=int(y[1])\n",
    "    if i>1:\n",
    "        print(sum[j-1]-sum[i-2])//(j-i+1)\n",
    "    else:\n",
    "        print(sum[j-1]//(j-i+1))\n",
    "\n"
   ]
  },
  {
   "cell_type": "code",
   "execution_count": null,
   "metadata": {},
   "outputs": [],
   "source": []
  },
  {
   "cell_type": "code",
   "execution_count": null,
   "metadata": {},
   "outputs": [],
   "source": []
  },
  {
   "cell_type": "code",
   "execution_count": null,
   "metadata": {},
   "outputs": [],
   "source": []
  },
  {
   "cell_type": "markdown",
   "metadata": {},
   "source": []
  },
  {
   "cell_type": "code",
   "execution_count": 1,
   "metadata": {},
   "outputs": [
    {
     "data": {
      "text/plain": [
       "[1, 2, 3, 4, 5, 9]"
      ]
     },
     "execution_count": 1,
     "metadata": {},
     "output_type": "execute_result"
    }
   ],
   "source": [
    "a=[1,2,3,4,5]\n",
    "a.append(9)\n",
    "a"
   ]
  },
  {
   "cell_type": "code",
   "execution_count": null,
   "metadata": {},
   "outputs": [],
   "source": []
  },
  {
   "cell_type": "code",
   "execution_count": null,
   "metadata": {},
   "outputs": [],
   "source": []
  },
  {
   "cell_type": "code",
   "execution_count": null,
   "metadata": {},
   "outputs": [],
   "source": []
  },
  {
   "cell_type": "code",
   "execution_count": null,
   "metadata": {},
   "outputs": [],
   "source": []
  },
  {
   "cell_type": "code",
   "execution_count": null,
   "metadata": {},
   "outputs": [],
   "source": []
  }
 ],
 "metadata": {
  "kernelspec": {
   "display_name": "Python 3",
   "language": "python",
   "name": "python3"
  },
  "language_info": {
   "codemirror_mode": {
    "name": "ipython",
    "version": 3
   },
   "file_extension": ".py",
   "mimetype": "text/x-python",
   "name": "python",
   "nbconvert_exporter": "python",
   "pygments_lexer": "ipython3",
   "version": "3.7.3"
  }
 },
 "nbformat": 4,
 "nbformat_minor": 2
}
