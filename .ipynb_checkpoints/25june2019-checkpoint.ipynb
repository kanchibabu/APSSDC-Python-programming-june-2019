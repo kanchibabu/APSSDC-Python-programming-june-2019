{
 "cells": [
  {
   "cell_type": "markdown",
   "metadata": {},
   "source": [
    "## Digit frequency\n"
   ]
  },
  {
   "cell_type": "code",
   "execution_count": 1,
   "metadata": {},
   "outputs": [
    {
     "ename": "SyntaxError",
     "evalue": "invalid syntax (<ipython-input-1-32d8cbee5136>, line 3)",
     "output_type": "error",
     "traceback": [
      "\u001b[1;36m  File \u001b[1;32m\"<ipython-input-1-32d8cbee5136>\"\u001b[1;36m, line \u001b[1;32m3\u001b[0m\n\u001b[1;33m    for n n in allnumbers:\u001b[0m\n\u001b[1;37m          ^\u001b[0m\n\u001b[1;31mSyntaxError\u001b[0m\u001b[1;31m:\u001b[0m invalid syntax\n"
     ]
    }
   ],
   "source": [
    "def uniqueData(allnumbers):\n",
    "    unique = []\n",
    "    for n n in allnumbers:\n",
    "        \n",
    "\n",
    "        \n",
    "        \n",
    "        \n",
    "def digitfrequency1(s):\n",
    "    allnumbers = []\n",
    "    for i in s:\n",
    "        if i.isdigit():\n",
    "            allnumbers.append(i)\n",
    "    unique = uniqueData(allnumbers)\n",
    "    for str(i) in range(0,10):\n",
    "        if str(i) not in unique:\n",
    "            print(0, end = '')\n",
    "        else:\n",
    "            count = allnumbers.count(str(i))\n",
    "            print(count, end = '')\n",
    "digitfrequency('213abc456def111')"
   ]
  },
  {
   "cell_type": "code",
   "execution_count": null,
   "metadata": {},
   "outputs": [],
   "source": [
    "def digitfrequency2(s):\n",
    "    "
   ]
  },
  {
   "cell_type": "code",
   "execution_count": null,
   "metadata": {},
   "outputs": [],
   "source": []
  },
  {
   "cell_type": "code",
   "execution_count": null,
   "metadata": {},
   "outputs": [],
   "source": []
  },
  {
   "cell_type": "code",
   "execution_count": 2,
   "metadata": {},
   "outputs": [],
   "source": [
    "# Find and replace Appilication \n",
    "    # Count the total number of occurances of a word\n",
    "    # If word is existing \n",
    "    # Replace all occurances of a word with another word\n",
    "    \n",
    "# Marks analaysis Appilication \n",
    "    # Generate the marks file for n students \n",
    "    # Input text file - each line in the text file contains marks of one student\n",
    "    # Genearates a report with the follwing information\n",
    "        # Class Average \n",
    "        # % of students passed\n",
    "        # % of students failed\n",
    "        # % of students with distinction \n",
    "        # Highest Mark Frequency\n",
    "        # Lowest mark Frequency"
   ]
  },
  {
   "cell_type": "code",
   "execution_count": 3,
   "metadata": {},
   "outputs": [],
   "source": [
    "from random import randint\n",
    "def generatemarks(n,lb,ub):\n",
    "    with open ('DataFiles/marks.txt', 'w') as f:\n",
    "        for i in range(0,n):\n",
    "            r = randint(lb,ub)\n",
    "            f.write(str(r)+ '\\n')\n",
    "    return\n",
    "generatemarks(10,0,100)"
   ]
  },
  {
   "cell_type": "code",
   "execution_count": 6,
   "metadata": {},
   "outputs": [
    {
     "ename": "NameError",
     "evalue": "name 'filepath' is not defined",
     "output_type": "error",
     "traceback": [
      "\u001b[1;31m---------------------------------------------------------------------------\u001b[0m",
      "\u001b[1;31mNameError\u001b[0m                                 Traceback (most recent call last)",
      "\u001b[1;32m<ipython-input-6-2f2b59c987c1>\u001b[0m in \u001b[0;36m<module>\u001b[1;34m\u001b[0m\n\u001b[0;32m     24\u001b[0m             \u001b[0mpasspercentage\u001b[0m \u001b[1;33m=\u001b[0m \u001b[0mcount\u001b[0m \u001b[1;33m*\u001b[0m \u001b[1;36m100\u001b[0m \u001b[1;33m/\u001b[0m\u001b[0mlen\u001b[0m\u001b[1;33m(\u001b[0m\u001b[0ms\u001b[0m\u001b[1;33m)\u001b[0m\u001b[1;33m\u001b[0m\u001b[1;33m\u001b[0m\u001b[0m\n\u001b[0;32m     25\u001b[0m         \u001b[0mprint\u001b[0m\u001b[1;33m(\u001b[0m\u001b[1;34m\"% of students passed :\"\u001b[0m\u001b[1;33m,\u001b[0m \u001b[0mpasspercentage\u001b[0m\u001b[1;33m)\u001b[0m\u001b[1;33m\u001b[0m\u001b[1;33m\u001b[0m\u001b[0m\n\u001b[1;32m---> 26\u001b[1;33m \u001b[0mpasspercent\u001b[0m\u001b[1;33m(\u001b[0m\u001b[0mfilepath\u001b[0m\u001b[1;33m)\u001b[0m\u001b[1;33m\u001b[0m\u001b[1;33m\u001b[0m\u001b[0m\n\u001b[0m\u001b[0;32m     27\u001b[0m \u001b[1;33m\u001b[0m\u001b[0m\n\u001b[0;32m     28\u001b[0m \u001b[1;32mdef\u001b[0m \u001b[0mfailpercent\u001b[0m\u001b[1;33m(\u001b[0m\u001b[0mfilepath\u001b[0m\u001b[1;33m)\u001b[0m\u001b[1;33m:\u001b[0m\u001b[1;33m\u001b[0m\u001b[1;33m\u001b[0m\u001b[0m\n",
      "\u001b[1;31mNameError\u001b[0m: name 'filepath' is not defined"
     ]
    }
   ],
   "source": [
    "def averagemarks(filepath):\n",
    "    count = 0\n",
    "    avg = 0\n",
    "    sum = 0\n",
    "    percent = 0\n",
    "    with open (filepath, 'r') as f:\n",
    "        s =f.read().split()\n",
    "        for i in s:\n",
    "            if i.isdigit():\n",
    "                sum += int(i)\n",
    "                count = count + 1\n",
    "        avg = sum / count\n",
    "        percent = sum * 100 / (count*50)\n",
    "        print(\"sum of class :\", sum)\n",
    "        print(\"class average :\", avg)\n",
    "        print(\"class percentage:\", percent)\n",
    "def passpercent(filepath):\n",
    "    count = 0\n",
    "    with open (filepath, 'r') as f:\n",
    "        s =f.read().split()\n",
    "        for i in s:\n",
    "            if int(i) >= 25:\n",
    "                count = count +1\n",
    "            passpercentage = count * 100 /len(s)\n",
    "        print(\"% of students passed :\", passpercentage)\n",
    "passpercent(filepath)\n",
    "                \n",
    "def failpercent(filepath):\n",
    "    count = 0\n",
    "    with open (filepath, 'r') as f:\n",
    "        s =f.read().split()\n",
    "        for i in s:\n",
    "            if int(i) < 25:\n",
    "                count = count + 1\n",
    "            failpercentage = count * 100 / len(s)\n",
    "        print(\"% of students failed :\", failpercentage)\n",
    "failpercent(filepath)\n",
    "\n",
    "def distinctionpercent(filepath):\n",
    "    count = 0\n",
    "    with open (filepath, 'r') as f:\n",
    "        s =f.read().split()\n",
    "        for i in s:\n",
    "            if int(i) >= 35:\n",
    "                count = count + 1\n",
    "            distinction = count * 100 / len(s)\n",
    "        print(\"% students with distinction :\", distinction)\n",
    "distinctionpercent(filepath)\n",
    "\n",
    "\n",
    "averagemarks(filepath)"
   ]
  },
  {
   "cell_type": "code",
   "execution_count": 49,
   "metadata": {},
   "outputs": [
    {
     "name": "stdout",
     "output_type": "stream",
     "text": [
      "{'44': 1}\n",
      "{'44': 1, '51': 1}\n",
      "{'44': 1, '51': 1, '2': 1}\n",
      "{'44': 1, '51': 1, '2': 1, '20': 1}\n",
      "{'44': 1, '51': 1, '2': 1, '20': 1, '72': 1}\n",
      "{'44': 2, '51': 1, '2': 1, '20': 1, '72': 1}\n",
      "{'44': 2, '51': 1, '2': 1, '20': 1, '72': 1, '45': 1}\n",
      "{'44': 2, '51': 1, '2': 1, '20': 1, '72': 1, '45': 1, '65': 1}\n",
      "{'44': 2, '51': 1, '2': 1, '20': 1, '72': 1, '45': 1, '65': 1, '75': 1}\n",
      "{'44': 2, '51': 1, '2': 1, '20': 1, '72': 1, '45': 1, '65': 1, '75': 1, '66': 1}\n"
     ]
    }
   ],
   "source": [
    "def highestmarkfrequency(filepath):\n",
    "    count = {}\n",
    "    with open(filepath, 'r') as f:\n",
    "        filedata = f.read().split()\n",
    "        for i in filedata:\n",
    "            if i in count:\n",
    "                count[i] += 1\n",
    "            else:\n",
    "                count[i] = 1\n",
    "            print(count)\n",
    "            \n",
    "                \n",
    "    \n",
    "filepath = \"DataFiles/marks.txt\"\n",
    "highestmarkfrequency(filepath)\n",
    "                \n",
    "                    \n",
    "    \n"
   ]
  },
  {
   "cell_type": "markdown",
   "metadata": {},
   "source": [
    "## Anagram"
   ]
  },
  {
   "cell_type": "code",
   "execution_count": 67,
   "metadata": {},
   "outputs": [
    {
     "data": {
      "text/plain": [
       "True"
      ]
     },
     "execution_count": 67,
     "metadata": {},
     "output_type": "execute_result"
    }
   ],
   "source": [
    "# Function to check if two strings are anagrams\n",
    "# abc cba -> True\n",
    "# aabbcc ccbbaaa -> False\n",
    "def checkanagrams(s1,s2):\n",
    "    count = 0\n",
    "    k = 0\n",
    "    if len(s1) != len(s2):\n",
    "        return False\n",
    "    if sorted(s1) == sorted(s2):\n",
    "        return True\n",
    "    return False\n",
    "checkanagrams('abc','cba')"
   ]
  },
  {
   "cell_type": "code",
   "execution_count": 74,
   "metadata": {},
   "outputs": [
    {
     "data": {
      "text/plain": [
       "0"
      ]
     },
     "execution_count": 74,
     "metadata": {},
     "output_type": "execute_result"
    }
   ],
   "source": [
    "def checkchardeletions(s1,s2):\n",
    "    uncommon = []\n",
    "    for i in s1:\n",
    "        if i not in s2:\n",
    "            uncommon.append(i)\n",
    "    for i in s2:\n",
    "        if i not in s1:\n",
    "            uncommon.append(i)\n",
    "    count = len(uncommon)\n",
    "    freqs1 = {}\n",
    "    freqs2 = {}\n",
    "    uniqs1 = []\n",
    "    uniqs2 = []\n",
    "    for i in s1:\n",
    "        if i not in uncommon and i not in uniqs1:\n",
    "            freqs1[i] = s1.count(i)\n",
    "            uniqs1.append(i)\n",
    "    for i in s2:\n",
    "        if i not in uncommon and i not in uniqs2:\n",
    "            freqs2[i] = s2.count(i)\n",
    "            uniqs2.append(i)\n",
    "    for key in freqs1.keys():\n",
    "        count += abs(freqs1[key] - freqs2[key])\n",
    "    return count\n",
    "checkchardeletions('abc','bca')\n",
    "t = int(input())\n",
    "for i in range(0,t):\n",
    "    s1 = input()\n",
    "    s2 = input()\n",
    "    print(checkchardeletions(s1,s2))"
   ]
  },
  {
   "cell_type": "code",
   "execution_count": null,
   "metadata": {},
   "outputs": [],
   "source": [
    "\n"
   ]
  },
  {
   "cell_type": "code",
   "execution_count": null,
   "metadata": {},
   "outputs": [],
   "source": []
  },
  {
   "cell_type": "code",
   "execution_count": null,
   "metadata": {},
   "outputs": [],
   "source": []
  },
  {
   "cell_type": "code",
   "execution_count": null,
   "metadata": {},
   "outputs": [],
   "source": []
  },
  {
   "cell_type": "code",
   "execution_count": null,
   "metadata": {},
   "outputs": [],
   "source": []
  }
 ],
 "metadata": {
  "kernelspec": {
   "display_name": "Python 3",
   "language": "python",
   "name": "python3"
  },
  "language_info": {
   "codemirror_mode": {
    "name": "ipython",
    "version": 3
   },
   "file_extension": ".py",
   "mimetype": "text/x-python",
   "name": "python",
   "nbconvert_exporter": "python",
   "pygments_lexer": "ipython3",
   "version": "3.7.3"
  }
 },
 "nbformat": 4,
 "nbformat_minor": 2
}
