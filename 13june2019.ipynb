{
 "cells": [
  {
   "cell_type": "code",
   "execution_count": 2,
   "metadata": {},
   "outputs": [],
   "source": [
    "# Function to generate all perfect numbers in a given range"
   ]
  },
  {
   "cell_type": "code",
   "execution_count": 3,
   "metadata": {},
   "outputs": [],
   "source": [
    "# Function to calculate the average first N prime numbers"
   ]
  },
  {
   "cell_type": "code",
   "execution_count": 4,
   "metadata": {},
   "outputs": [
    {
     "ename": "SyntaxError",
     "evalue": "invalid syntax (<ipython-input-4-8b02ec833529>, line 1)",
     "output_type": "error",
     "traceback": [
      "\u001b[1;36m  File \u001b[1;32m\"<ipython-input-4-8b02ec833529>\"\u001b[1;36m, line \u001b[1;32m1\u001b[0m\n\u001b[1;33m    for loop in python\u001b[0m\n\u001b[1;37m                      ^\u001b[0m\n\u001b[1;31mSyntaxError\u001b[0m\u001b[1;31m:\u001b[0m invalid syntax\n"
     ]
    }
   ],
   "source": [
    "for loop in python\n",
    "\n",
    "for number in range(lb,ub+1)\n",
    "\n",
    "# all set based functions in python have  start value is inclusive and end value is exlcusive\n"
   ]
  },
  {
   "cell_type": "code",
   "execution_count": 5,
   "metadata": {},
   "outputs": [
    {
     "data": {
      "text/plain": [
       "1"
      ]
     },
     "execution_count": 5,
     "metadata": {},
     "output_type": "execute_result"
    }
   ],
   "source": [
    "+1"
   ]
  },
  {
   "cell_type": "code",
   "execution_count": 24,
   "metadata": {},
   "outputs": [
    {
     "name": "stdout",
     "output_type": "stream",
     "text": [
      "20 22 24 26 28 30 32 34 36 38 40 42 44 46 48 50 "
     ]
    }
   ],
   "source": [
    "# Function to print the alternate numbers in a range\n",
    "def alternatevalues(lb, ub):\n",
    "    for sumnumber in range(lb,ub+1, 2):\n",
    "        print(sumnumber, end =\" \")\n",
    "    return\n",
    "alternatevalues(20, 50)\n"
   ]
  },
  {
   "cell_type": "code",
   "execution_count": 30,
   "metadata": {},
   "outputs": [
    {
     "name": "stdout",
     "output_type": "stream",
     "text": [
      "18 17 16 15 14 13 12 11 10 9 8 7 6 5 4 3 2 "
     ]
    }
   ],
   "source": [
    "# function to print reverse of given range in the \n",
    "def reverse(lb, ub):\n",
    "    for value in range(ub, lb-1, -1):\n",
    "        print(value, end =\" \")\n",
    "    return\n",
    "reverse(2, 18)"
   ]
  },
  {
   "cell_type": "code",
   "execution_count": 31,
   "metadata": {},
   "outputs": [
    {
     "name": "stdout",
     "output_type": "stream",
     "text": [
      "19 17 15 13 11 9 7 5 3 "
     ]
    }
   ],
   "source": [
    "# function to print odd numbers in reverse order\n",
    "def oddnumbers(lb, ub):\n",
    "        for i in range(ub, lb-1, -1):\n",
    "            if i % 2 != 0:\n",
    "                print(i, end =\" \")\n",
    "        return\n",
    "oddnumbers(2, 20)"
   ]
  },
  {
   "cell_type": "code",
   "execution_count": 11,
   "metadata": {},
   "outputs": [
    {
     "data": {
      "text/plain": [
       "15150"
      ]
     },
     "execution_count": 11,
     "metadata": {},
     "output_type": "execute_result"
    }
   ],
   "source": [
    "#Function to calculate the sum of numbers in a range\n",
    "\n",
    "def sumofnumbers(lb, ub):\n",
    "    add = 0\n",
    "    for i in range(lb, ub+1):\n",
    "        add = add + i\n",
    "    return add\n",
    "sumofnumbers(100, 200)"
   ]
  },
  {
   "cell_type": "code",
   "execution_count": 32,
   "metadata": {},
   "outputs": [
    {
     "data": {
      "text/plain": [
       "2.0"
      ]
     },
     "execution_count": 32,
     "metadata": {},
     "output_type": "execute_result"
    }
   ],
   "source": [
    "# function to calculate the average of a given range\n",
    "def average(lb, ub):\n",
    "    # count = 0\n",
    "    sum = 0\n",
    "    for i in range(lb, ub+1):\n",
    "        sum = sum + i\n",
    "       # count = count + 1\n",
    "    return sum/(ub-lb+1) # count  (if u use count here then we have to replace (lb-ub) with count)\n",
    "average(1, 3)\n",
    "        "
   ]
  },
  {
   "cell_type": "code",
   "execution_count": 82,
   "metadata": {},
   "outputs": [
    {
     "data": {
      "text/plain": [
       "True"
      ]
     },
     "execution_count": 82,
     "metadata": {},
     "output_type": "execute_result"
    }
   ],
   "source": [
    "#Function to check the leap year\n",
    "def isleapyear(n):\n",
    "        if n % 100 != 0 and (n % 400 == 0 or n % 4 == 0):\n",
    "            return True\n",
    "        return False\n",
    "isleapyear(2004)"
   ]
  },
  {
   "cell_type": "code",
   "execution_count": 92,
   "metadata": {
    "scrolled": true
   },
   "outputs": [
    {
     "name": "stdout",
     "output_type": "stream",
     "text": [
      "2004 "
     ]
    }
   ],
   "source": [
    "#Function to generate the leap year in a given time period\n",
    "def generateleapyear(lb,ub):\n",
    "    for n in range(lb,ub+1):\n",
    "        if isleapyear(n):\n",
    "            print(n, end=\" \")\n",
    "    return\n",
    "generateleapyear(2000,2004)"
   ]
  },
  {
   "cell_type": "code",
   "execution_count": 130,
   "metadata": {},
   "outputs": [
    {
     "data": {
      "text/plain": [
       "1824"
      ]
     },
     "execution_count": 130,
     "metadata": {},
     "output_type": "execute_result"
    }
   ],
   "source": [
    "# calaculate the number of days in a given time period using leap year logic\n",
    "def noofdays(startyear,endyear):\n",
    "    sum = 0\n",
    "    for n in range(startyear,endyear+1):\n",
    "        if isleapyear(n):\n",
    "            sum = 364+sum\n",
    "        else:\n",
    "            sum = 365+sum\n",
    "            \n",
    "    return sum\n",
    "noofdays(2000,2004)"
   ]
  },
  {
   "cell_type": "code",
   "execution_count": 158,
   "metadata": {},
   "outputs": [
    {
     "data": {
      "text/plain": [
       "204960"
      ]
     },
     "execution_count": 158,
     "metadata": {},
     "output_type": "execute_result"
    }
   ],
   "source": [
    "# Function to calculate number of hours for a given period\n",
    "def numberofdaysmonth(month,year):\n",
    "    if month == 2:\n",
    "        if isleapyear(year):\n",
    "            return 29\n",
    "        return 28\n",
    "    elif(month <= 7 and month % 2 != 0) or (month >=8 and month % 2 == 0 ):\n",
    "        return 31\n",
    "    else:\n",
    "        return 30\n",
    "def daysinsatrtyear(startmonth,startyear):\n",
    "    days = 0\n",
    "    for month in range(startmonth,13):\n",
    "        days += numberofdaysmonth(month,startyear)\n",
    "    return days\n",
    "\n",
    "def daysinendyear(endmonth,endyear):\n",
    "    days = 0\n",
    "    for month in range(1,endmonth+1):\n",
    "        days += numberofdaysmonth(month, endyear)\n",
    "    return days\n",
    "def numberofhours(startmonth,startyear,endmonth,endyear):\n",
    "    days = 0\n",
    "    days += daysinsatrtyear(startmonth,startyear)\n",
    "    days += daysinendyear(endmonth,endyear)\n",
    "    if endyear - startyear == 2:\n",
    "        days += noofdays(startyear+1,startyear+1)\n",
    "    elif endyear - startyear > 2:\n",
    "        days += noofdays(startyear+1,endyear-1)\n",
    "    return 24* days\n",
    "numberofhours(11,1975,3,1999)\n",
    "        \n",
    "        \n",
    "    "
   ]
  },
  {
   "cell_type": "code",
   "execution_count": null,
   "metadata": {},
   "outputs": [],
   "source": []
  },
  {
   "cell_type": "code",
   "execution_count": null,
   "metadata": {},
   "outputs": [],
   "source": []
  },
  {
   "cell_type": "code",
   "execution_count": null,
   "metadata": {},
   "outputs": [],
   "source": []
  },
  {
   "cell_type": "code",
   "execution_count": null,
   "metadata": {},
   "outputs": [],
   "source": []
  },
  {
   "cell_type": "code",
   "execution_count": null,
   "metadata": {},
   "outputs": [],
   "source": []
  },
  {
   "cell_type": "code",
   "execution_count": null,
   "metadata": {},
   "outputs": [],
   "source": []
  }
 ],
 "metadata": {
  "kernelspec": {
   "display_name": "Python 3",
   "language": "python",
   "name": "python3"
  },
  "language_info": {
   "codemirror_mode": {
    "name": "ipython",
    "version": 3
   },
   "file_extension": ".py",
   "mimetype": "text/x-python",
   "name": "python",
   "nbconvert_exporter": "python",
   "pygments_lexer": "ipython3",
   "version": "3.7.3"
  }
 },
 "nbformat": 4,
 "nbformat_minor": 2
}
