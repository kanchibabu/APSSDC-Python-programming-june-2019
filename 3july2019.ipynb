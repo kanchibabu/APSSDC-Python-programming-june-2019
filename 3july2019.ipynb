{
 "cells": [
  {
   "cell_type": "code",
   "execution_count": 1,
   "metadata": {},
   "outputs": [
    {
     "name": "stdout",
     "output_type": "stream",
     "text": [
      "apssdc\n",
      "Apssdc\n"
     ]
    }
   ],
   "source": [
    "s= input()\n",
    "def capitalword(s):\n",
    "    s.replace(\" \",\"\")\n",
    "    print(s.capitalize())\n",
    "    \n",
    "capitalword(s)\n",
    "    \n",
    "    "
   ]
  },
  {
   "cell_type": "code",
   "execution_count": 9,
   "metadata": {},
   "outputs": [
    {
     "name": "stdout",
     "output_type": "stream",
     "text": [
      "hai hello world\n",
      "hello\n",
      "world\n"
     ]
    }
   ],
   "source": [
    "s=input().split()\n",
    "def maxlenwords(s):\n",
    "    length=[]\n",
    "    for i in s:\n",
    "        length.append(len(i))\n",
    "    for i in s:\n",
    "        if len(i)==max(length):\n",
    "            print(i)\n",
    "        \n",
    "maxlenwords(s)\n",
    "    "
   ]
  },
  {
   "cell_type": "code",
   "execution_count": 20,
   "metadata": {},
   "outputs": [
    {
     "name": "stdout",
     "output_type": "stream",
     "text": [
      "ramu ravi balu\n",
      "r\n",
      "ramu\n",
      "ravi\n"
     ]
    }
   ],
   "source": [
    "s=input().split()\n",
    "sub_string = input()\n",
    "\n",
    "def startwithword(s):\n",
    "    match = 0\n",
    "    for i in s:\n",
    "        if i.startswith(sub_string):\n",
    "            print(i)\n",
    "            match +=1\n",
    "    if match == 0:\n",
    "        print(-1)\n",
    "\n",
    "startwithword(s)\n"
   ]
  },
  {
   "cell_type": "code",
   "execution_count": 21,
   "metadata": {},
   "outputs": [
    {
     "name": "stdout",
     "output_type": "stream",
     "text": [
      "ramu ravi balu mahesh\n",
      "mahesh\n"
     ]
    }
   ],
   "source": [
    "s= input().split()\n",
    "def notendwithword(s):\n",
    "    sub_string=(\"a\",\"e\",\"i\",\"o\",\"u\")\n",
    "    for i in s:\n",
    "        if i.endswith(sub_string) != True:\n",
    "            print(i)\n",
    "\n",
    "notendwithword(s)\n"
   ]
  },
  {
   "cell_type": "code",
   "execution_count": 24,
   "metadata": {},
   "outputs": [
    {
     "name": "stdout",
     "output_type": "stream",
     "text": [
      "ramu ravi akash mahesh\n",
      "akash\n",
      "mahesh\n"
     ]
    }
   ],
   "source": [
    "s=input().split()\n",
    "def duplicateword(s):\n",
    "    for name in s:\n",
    "        for ch in name:\n",
    "            if name.count(ch)>1:\n",
    "                print(name)\n",
    "                break\n",
    "\n",
    "duplicateword(s)"
   ]
  },
  {
   "cell_type": "code",
   "execution_count": 31,
   "metadata": {},
   "outputs": [
    {
     "name": "stdout",
     "output_type": "stream",
     "text": [
      "HeLLOwOrLd\n"
     ]
    },
    {
     "data": {
      "text/plain": [
       "'hElloWoRld'"
      ]
     },
     "execution_count": 31,
     "metadata": {},
     "output_type": "execute_result"
    }
   ],
   "source": [
    "s=input()\n",
    "s[:-1].swapcase()+s[-1]"
   ]
  },
  {
   "cell_type": "code",
   "execution_count": 40,
   "metadata": {},
   "outputs": [
    {
     "name": "stdout",
     "output_type": "stream",
     "text": [
      "HelloWorld\n",
      "2\n"
     ]
    }
   ],
   "source": [
    "s=input()\n",
    "s1=list(s)\n",
    "def countupper(s):\n",
    "    count=0\n",
    "    for i in s1:\n",
    "        if (i.isupper()==True):\n",
    "            count+=1\n",
    "    print(count)\n",
    "\n",
    "countupper(s)"
   ]
  },
  {
   "cell_type": "code",
   "execution_count": 45,
   "metadata": {},
   "outputs": [
    {
     "name": "stdout",
     "output_type": "stream",
     "text": [
      "www.way2sms.com\n",
      "DIGITS 1\n",
      "ALPHABETS 12\n",
      "others 3\n"
     ]
    }
   ],
   "source": [
    "s=input()\n",
    "def countofalnum(s):\n",
    "    alpha=0\n",
    "    digits=0\n",
    "    others=0\n",
    "    for i in s:\n",
    "        if i.isdigit()==True:\n",
    "            digits += 1\n",
    "        \n",
    "        if i.isalpha()==True:\n",
    "            alpha += 1\n",
    "        \n",
    "        else:\n",
    "            others += 1\n",
    "    print(\"DIGITS\",digits)        \n",
    "    print(\"ALPHABETS\",alpha)\n",
    "    print(\"others\",others)\n",
    "countofalnum(s)"
   ]
  },
  {
   "cell_type": "code",
   "execution_count": 47,
   "metadata": {},
   "outputs": [
    {
     "name": "stdout",
     "output_type": "stream",
     "text": [
      "1 9 5\n",
      "1\n"
     ]
    }
   ],
   "source": [
    "def countdivisiors(i, r, k):\n",
    "    count = 0\n",
    "    for l in range(i, r+1):\n",
    "        if l % k == 0:\n",
    "            count = count + 1\n",
    "    print(count)\n",
    "s = input()\n",
    "s = s.split()\n",
    "i = int(s[0])\n",
    "r = int(s[1])\n",
    "k = int(s[2])\n",
    "\n",
    "countdivisiors(i, r, k)\n",
    "    "
   ]
  },
  {
   "cell_type": "code",
   "execution_count": 2,
   "metadata": {},
   "outputs": [
    {
     "name": "stdout",
     "output_type": "stream",
     "text": [
      "2\n",
      "3\n",
      "A\n",
      "5\n",
      "B\n"
     ]
    }
   ],
   "source": [
    "t=int(input())\n",
    "for i in range(1,t+1):\n",
    "    s=int(input())\n",
    "    a=0\n",
    "    b=7\n",
    "    li=[]\n",
    "    x=abs(s-a)\n",
    "    y=abs(s-b)\n",
    "    for i in (x,y):\n",
    "        li.append(i)\n",
    "    if (x==y) or (x==min(li)):\n",
    "        print(\"A\")\n",
    "        a=x\n",
    "    else:\n",
    "        print(\"B\")\n",
    "        b=y\n",
    "    \n",
    "\n",
    "\n",
    "    "
   ]
  },
  {
   "cell_type": "code",
   "execution_count": 4,
   "metadata": {},
   "outputs": [
    {
     "data": {
      "text/plain": [
       "'u'"
      ]
     },
     "execution_count": 4,
     "metadata": {},
     "output_type": "execute_result"
    }
   ],
   "source": [
    "s=\"ramu\"\n",
    "\n",
    "s[3]"
   ]
  },
  {
   "cell_type": "code",
   "execution_count": null,
   "metadata": {},
   "outputs": [],
   "source": [
    "s=input()\n",
    "x=(\"a\",\"e\",\"i\",\"o\",\"u\",\"y\")\n",
    "if (s[2] == x) and (len(s)>9):\n",
    "    print(invalid)\n",
    "else:\n",
    "    if (((int(s[0])+int(s[1]))%2==0) and ((int(s[3])+int(s[4]))%2==0) and ((int(s[4])+int(s[5]))%2==0) and ((int(s[5])+int(s[6]))%2==0) and ((int(s[6])+int(s[7]))%2==0)):\n",
    "        print(\"valid\")\n",
    "    else:\n",
    "        print(\"invalid\")"
   ]
  },
  {
   "cell_type": "code",
   "execution_count": null,
   "metadata": {},
   "outputs": [],
   "source": [
    "t=input()\n",
    "vowels=[\"A\",\"E\",\"I\",\"O\",\"U\",\"Y\"]\n",
    " \n",
    "if (int(t[0])+int(t[1]))%2==0 and (int(t[3])+int(t[4]))%2==0 and (int(t[4])+int(t[5]))%2==0 and (int(t[7])+int(t[8]))%2==0 and t[2] not in vowels:\n",
    "    print(\"valid\")\n",
    "else:\n",
    "    print(\"invalid\")\n"
   ]
  }
 ],
 "metadata": {
  "kernelspec": {
   "display_name": "Python 3",
   "language": "python",
   "name": "python3"
  },
  "language_info": {
   "codemirror_mode": {
    "name": "ipython",
    "version": 3
   },
   "file_extension": ".py",
   "mimetype": "text/x-python",
   "name": "python",
   "nbconvert_exporter": "python",
   "pygments_lexer": "ipython3",
   "version": "3.7.3"
  }
 },
 "nbformat": 4,
 "nbformat_minor": 2
}
