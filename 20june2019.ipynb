{
 "cells": [
  {
   "cell_type": "markdown",
   "metadata": {},
   "source": [
    "## Date : 20 june 2019\n",
    "## Day Objective\n",
    "\n",
    "-  Regular Expression\n",
    "\n",
    "    * Constructing Regular expression for various use cases\n",
    "\n",
    "    * Regular Expression Module and related in python\n",
    "\n",
    "    * Improving the contacts application with name and phone number validation \n",
    "\n",
    "-  File handling\n",
    "\n",
    "    * Text Files\n",
    "\n",
    "    * Upgrading the contacts application to store contact information in a text file "
   ]
  },
  {
   "cell_type": "code",
   "execution_count": null,
   "metadata": {},
   "outputs": [],
   "source": []
  },
  {
   "cell_type": "markdown",
   "metadata": {},
   "source": [
    "#### Regular Expressions\n",
    "\n",
    "- Pattern Matching\n",
    "- Symbolic notation of a pattern\n",
    "    - Pattern :Formate which repeats \n",
    "    - Pattern (RE) - Represents The set of all values strings match that particular pattern  \n",
    "- [0-9] -> Any digit \n",
    "- [a-z] -> Any lower case alphabet\n",
    "- [2468] or [8642] or [6824] -> All single digit multiples of 2\n",
    "\n",
    "- ^[0-9]{1}$ -> Is used to represent only single digit numbers \n",
    "\n",
    "- ^[0-9]{3}$ -> is used to represent only three digit numbers\n",
    "\n",
    "- ^[0-9]{3} -> is used to represent only fist three digits in a given string \n",
    "\n",
    "- [0-9]{3}$ -> is used to represent only last three digits in a given string\n",
    "\n",
    "- [0-9]*0$ -> is used to represent only the multiplies of 10\n",
    "\n",
    "- ^([1-9][0-9]*[05])$|^([5])$ -> All multiples of 5\n",
    "\n",
    "- [w] [o] [r] [d] or (word) -> used to search the specific word\n",
    "\n",
    "- ^[1-9][0-9]{9}$ -> All 10 digit numbers\n",
    "\n",
    "- ^[9876][0-9]{9}$  -> Validating phone number(India) (start with 9876 followed by 9 digits)\n",
    "\n",
    "\n",
    "- ^([1-9][0-9]{9}$)|^([0][9876][0-9]{9})$ -> Validating phone number(India)with staring 0 (start with 9876 followed by 9 digits)\n",
    "\n",
    "-^([1-9][0-9]{9}$)|^([0][9876][0-9]{9})$|([+][9][1][6-9][0-9])$ ->Validating phone number(India) (start with 9876 followed by 9 digits)\n",
    "\n",
    "\n",
    "\n",
    "- ^[a-z0-9._]{2,20}[@][1-9a-z]{3,18}[.][a-z]{2,4}$ -> Email validation (username@domain.extension)\n",
    "       - user name \n",
    "           - Length of username : [6, 15]\n",
    "           - No special characters other than_ .\n",
    "           - Should not begin and end with _.\n",
    "           - character set : all digits and alphabet\n",
    "       - domain \n",
    "           - Length of domain[3,18]\n",
    "           - No special characters\n",
    "           - Character set : all digits and alphabet\n",
    "       - Extensions\n",
    "            -Length of extension :[2,4}\n",
    "            - No special charaters\n",
    "            - Character set = lower case alphabet\n",
    "            \n",
    "^[a]...[z]$ -> Any string with length 5 that starts with 'a' and end with 'z'\n",
    " - ^[a].*[z]$ -> any string of any length that starts with 'a' and end with 'z'"
   ]
  },
  {
   "cell_type": "code",
   "execution_count": null,
   "metadata": {},
   "outputs": [],
   "source": []
  },
  {
   "cell_type": "code",
   "execution_count": 26,
   "metadata": {
    "scrolled": false
   },
   "outputs": [
    {
     "name": "stdout",
     "output_type": "stream",
     "text": [
      "enter emailkanchibabu.m@apssdc.in\n"
     ]
    },
    {
     "data": {
      "text/plain": [
       "True"
      ]
     },
     "execution_count": 26,
     "metadata": {},
     "output_type": "execute_result"
    }
   ],
   "source": [
    "# Function to validate a phone number\n",
    "\n",
    "import re\n",
    "\n",
    "def phonenumbervalidator(number):\n",
    "    pattern = '^([6-9][0-9]{9}$)|^([0][9876][0-9]{9})$|([+][9][1][6-9][0-9])$'\n",
    "    if re.match(pattern,str(number)):\n",
    "        return True\n",
    "    return False\n",
    "phonenumbervalidator(9876543111)\n",
    "\n",
    "email =input(\"enter email\")\n",
    "def emailvalidator(email):\n",
    "\n",
    "    pattern = '^[a-z0-9._]{2,20}[@][1-9a-z]{3,18}[.][a-z]{2,4}$'\n",
    "    if re.match(pattern,email):\n",
    "        return True\n",
    "    return False\n",
    "\n",
    "emailvalidator(email)   \n",
    "    "
   ]
  },
  {
   "cell_type": "code",
   "execution_count": 37,
   "metadata": {},
   "outputs": [
    {
     "name": "stdout",
     "output_type": "stream",
     "text": [
      "contacts name2 added\n"
     ]
    }
   ],
   "source": [
    "contacts = {\"name1\":[987654321,\"name1@domain.ext\"], \"name2\":[876543219,\"name2@domain.ext\"]}\n",
    "\n",
    "def addcontact(name, phone, email):\n",
    "    # Verify that the contact doesnot already exits in the dictionary\n",
    "    if name in contacts:\n",
    "        print(\"contacts %s added\" %name)\n",
    "    else:\n",
    "        if not phonenumbervalidator(phone):\n",
    "            print(\"phone number is invalid\")\n",
    "            return\n",
    "        if not emailvalidator(email):\n",
    "            print(\"email is invalid\")\n",
    "            return\n",
    "        newcontact = []\n",
    "        newcontact.append(phone)\n",
    "        newcontact.append(email)\n",
    "        contacts[name] = newcontact\n",
    "    return  \n",
    "addcontact(\"name2\", \"9123456789\",\"kanchibabu.m@apssdc.in\")\n"
   ]
  },
  {
   "cell_type": "code",
   "execution_count": 18,
   "metadata": {},
   "outputs": [
    {
     "name": "stdout",
     "output_type": "stream",
     "text": [
      "name2 : 9123456789\n"
     ]
    }
   ],
   "source": [
    "def searchcontacts(name):\n",
    "    if name in contacts:\n",
    "        print(name,\":\", contacts[name])\n",
    "    else:\n",
    "        print(\"%s does not exist\" % name)\n",
    "    return\n",
    "searchcontacts(\"name2\")\n",
    "    "
   ]
  },
  {
   "cell_type": "code",
   "execution_count": 13,
   "metadata": {},
   "outputs": [
    {
     "name": "stdout",
     "output_type": "stream",
     "text": [
      "3  contacts added succuessfully\n"
     ]
    }
   ],
   "source": [
    "def importcontacts(newcontacts):\n",
    "    contacts.update(newcontacts)\n",
    "    print(len(newcontacts.keys()), \" contacts added succuessfully\")\n",
    "    return\n",
    "newcontacts = { \"name2\": 6534216789,\"name3\": 7897654321,\"name4\": 45678954321}\n",
    "importcontacts(newcontacts)"
   ]
  },
  {
   "cell_type": "code",
   "execution_count": null,
   "metadata": {},
   "outputs": [],
   "source": []
  },
  {
   "cell_type": "code",
   "execution_count": null,
   "metadata": {},
   "outputs": [],
   "source": []
  },
  {
   "cell_type": "code",
   "execution_count": null,
   "metadata": {},
   "outputs": [],
   "source": []
  },
  {
   "cell_type": "code",
   "execution_count": null,
   "metadata": {},
   "outputs": [],
   "source": []
  },
  {
   "cell_type": "code",
   "execution_count": null,
   "metadata": {},
   "outputs": [],
   "source": []
  }
 ],
 "metadata": {
  "kernelspec": {
   "display_name": "Python 3",
   "language": "python",
   "name": "python3"
  },
  "language_info": {
   "codemirror_mode": {
    "name": "ipython",
    "version": 3
   },
   "file_extension": ".py",
   "mimetype": "text/x-python",
   "name": "python",
   "nbconvert_exporter": "python",
   "pygments_lexer": "ipython3",
   "version": "3.7.3"
  }
 },
 "nbformat": 4,
 "nbformat_minor": 2
}
