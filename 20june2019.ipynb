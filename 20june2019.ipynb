{
 "cells": [
  {
   "cell_type": "markdown",
   "metadata": {},
   "source": [
    "## Date : 20 june 2019\n",
    "## Day Objective\n",
    "\n",
    "-  Regular Expression\n",
    "\n",
    "    * Constructing Regular expression for various use cases\n",
    "\n",
    "    * Regular Expression Module and related in python\n",
    "\n",
    "    * Improving the contacts application with name and phone number validation \n",
    "\n",
    "-  File handling\n",
    "\n",
    "    * Text Files\n",
    "\n",
    "    * Upgrading the contacts application to store contact information in a text file "
   ]
  },
  {
   "cell_type": "code",
   "execution_count": null,
   "metadata": {},
   "outputs": [],
   "source": []
  },
  {
   "cell_type": "markdown",
   "metadata": {},
   "source": [
    "#### Regular Expressions\n",
    "\n",
    "- Pattern Matching\n",
    "- Symbolic notation of a pattern\n",
    "    - Pattern :Formate which repeats \n",
    "    - Pattern (RE) - Represents The set of all values strings match that particular pattern  \n",
    "- [0-9] -> Any digit \n",
    "- [a-z] -> Any lower case alphabet\n",
    "- [2468] or [8642] or [6824] -> All single digit multiples of 2\n",
    "\n",
    "- ^[0-9]{1}$ -> Is used to represent only single digit numbers \n",
    "\n",
    "- ^[0-9]{3}$ -> is used to represent only three digit numbers\n",
    "\n",
    "- ^[0-9]{3} -> is used to represent only fist three digits in a given string \n",
    "\n",
    "- [0-9]{3}$ -> is used to represent only last three digits in a given string\n",
    "\n",
    "- [0-9]*0$ -> is used to represent only the multiplies of 10\n",
    "\n",
    "- ^([1-9][0-9]*[05])$|^([5])$ -> All multiples of 5\n",
    "\n",
    "- [w] [o] [r] [d] or (word) -> used to search the specific word\n",
    "\n",
    "- ^[1-9][0-9]{9}$ -> All 10 digit numbers\n",
    "\n",
    "- ^[9876][0-9]{9}$  -> Validating phone number(India) (start with 9876 followed by 9 digits)\n",
    "\n",
    "\n",
    "- ^([1-9][0-9]{9}$)|^([0][9876][0-9]{9})$ -> Validating phone number(India)with staring 0 (start with 9876 followed by 9 digits)\n",
    "\n",
    "-^([1-9][0-9]{9}$)|^([0][9876][0-9]{9})$|([+][9][1][6-9][0-9])$ ->Validating phone number(India) (start with 9876 followed by 9 digits)\n",
    "\n",
    "\n",
    "\n",
    "- ^[a-z0-9._]{2,20}[@][1-9a-z]{3,18}[.][a-z]{2,4}$ -> Email validation (username@domain.extension)\n",
    "       - user name \n",
    "           - Length of username : [6, 15]\n",
    "           - No special characters other than_ .\n",
    "           - Should not begin and end with _.\n",
    "           - character set : all digits and alphabet\n",
    "       - domain \n",
    "           - Length of domain[3,18]\n",
    "           - No special characters\n",
    "           - Character set : all digits and alphabet\n",
    "       - Extensions\n",
    "            -Length of extension :[2,4}\n",
    "            - No special charaters\n",
    "            - Character set = lower case alphabet\n",
    "            \n",
    "^[a]...[z]$ -> Any string with length 5 that starts with 'a' and end with 'z'\n",
    " - ^[a].*[z]$ -> any string of any length that starts with 'a' and end with 'z'"
   ]
  },
  {
   "cell_type": "code",
   "execution_count": null,
   "metadata": {},
   "outputs": [],
   "source": []
  },
  {
   "cell_type": "code",
   "execution_count": 26,
   "metadata": {
    "scrolled": false
   },
   "outputs": [
    {
     "name": "stdout",
     "output_type": "stream",
     "text": [
      "enter emailkanchibabu.m@apssdc.in\n"
     ]
    },
    {
     "data": {
      "text/plain": [
       "True"
      ]
     },
     "execution_count": 26,
     "metadata": {},
     "output_type": "execute_result"
    }
   ],
   "source": [
    "# Function to validate a phone number\n",
    "\n",
    "import re\n",
    "\n",
    "def phonenumbervalidator(number):\n",
    "    pattern = '^([6-9][0-9]{9}$)|^([0][9876][0-9]{9})$|([+][9][1][6-9][0-9])$'\n",
    "    if re.match(pattern,str(number)):\n",
    "        return True\n",
    "    return False\n",
    "phonenumbervalidator(9876543111)\n",
    "\n",
    "email =input(\"enter email\")\n",
    "def emailvalidator(email):\n",
    "\n",
    "    pattern = '^[a-z0-9._]{2,20}[@][1-9a-z]{3,18}[.][a-z]{2,4}$'\n",
    "    if re.match(pattern,email):\n",
    "        return True\n",
    "    return False\n",
    "\n",
    "emailvalidator(email)   \n",
    "    "
   ]
  },
  {
   "cell_type": "code",
   "execution_count": 43,
   "metadata": {},
   "outputs": [
    {
     "name": "stdout",
     "output_type": "stream",
     "text": [
      "contacts name3 added\n"
     ]
    }
   ],
   "source": [
    "contacts = {\"name1\":[987654321,\"name1@domain.ext\"], \"name2\":[876543219,\"name2@domain.ext\"],\"name3\":[9123456786,\"name3@domain.ext\"]}\n",
    "\n",
    "def addcontact(name, phone, email):\n",
    "    # Verify that the contact doesnot already exits in the dictionary\n",
    "    if name in contacts:\n",
    "        print(\"contacts %s added\" %name)\n",
    "    else:\n",
    "        if not phonenumbervalidator(phone):\n",
    "            print(\"phone number is invalid\")\n",
    "            return\n",
    "        if not emailvalidator(email):\n",
    "            print(\"email is invalid\")\n",
    "            return\n",
    "        newcontact = []\n",
    "        newcontact.append(phone)\n",
    "        newcontact.append(email)\n",
    "        contacts[name] = newcontact\n",
    "    return  \n",
    "addcontact(\"name3\", \"9123456786\",\"name3@domain.ext\")"
   ]
  },
  {
   "cell_type": "code",
   "execution_count": 44,
   "metadata": {},
   "outputs": [
    {
     "data": {
      "text/plain": [
       "{'name1': [987654321, 'name1@domain.ext'],\n",
       " 'name2': [876543219, 'name2@domain.ext'],\n",
       " 'name3': [9123456786, 'name3@domain.ext']}"
      ]
     },
     "execution_count": 44,
     "metadata": {},
     "output_type": "execute_result"
    }
   ],
   "source": [
    "contacts"
   ]
  },
  {
   "cell_type": "code",
   "execution_count": 49,
   "metadata": {},
   "outputs": [
    {
     "name": "stdout",
     "output_type": "stream",
     "text": [
      "name1\n",
      "phone : 987654321\n",
      "email : name1@domain.ext\n"
     ]
    }
   ],
   "source": [
    "def searchcontacts(name):\n",
    "    if name in contacts:\n",
    "        print(name)\n",
    "        print(\"phone :\", contacts[name][0])\n",
    "        print(\"email :\", contacts[name][1])\n",
    "    else:\n",
    "        print(\"%s does not exist\" % name)\n",
    "    return\n",
    "searchcontacts(\"name1\")\n",
    "    "
   ]
  },
  {
   "cell_type": "code",
   "execution_count": 55,
   "metadata": {},
   "outputs": [
    {
     "name": "stdout",
     "output_type": "stream",
     "text": [
      "1  contacts added succuessfully\n"
     ]
    },
    {
     "data": {
      "text/plain": [
       "{'name1': [987654321, 'name1@domain.ext'],\n",
       " 'name2': [876543219, 'name2@domain.ext'],\n",
       " 'name3': [9123456786, 'name3@domain.ext'],\n",
       " 'name4': [9567895432, 'raju@gmail.com']}"
      ]
     },
     "execution_count": 55,
     "metadata": {},
     "output_type": "execute_result"
    }
   ],
   "source": [
    "def importcontacts(newcontacts):\n",
    "    contacts.update(newcontacts)\n",
    "    print(len(newcontacts.keys()), \" contacts added succuessfully\")\n",
    "    return\n",
    "newcontacts = {\"name4\":[9567895432,'raju@gmail.com']}\n",
    "importcontacts(newcontacts)\n",
    "contacts"
   ]
  },
  {
   "cell_type": "code",
   "execution_count": null,
   "metadata": {},
   "outputs": [],
   "source": []
  },
  {
   "cell_type": "code",
   "execution_count": 60,
   "metadata": {},
   "outputs": [
    {
     "name": "stdout",
     "output_type": "stream",
     "text": [
      "name1 \n",
      " phone : 987654321 \n",
      " email : name1@domain.ext\n",
      "name2 \n",
      " phone : 876543219 \n",
      " email : name2@domain.ext\n",
      "name3 \n",
      " phone : 9123456786 \n",
      " email : name3@domain.ext\n",
      "name4 \n",
      " phone : 9567895432 \n",
      " email : raju@gmail.com\n"
     ]
    }
   ],
   "source": [
    "# Function to list all contacts\n",
    "\n",
    "def listallcontacts():\n",
    "    for contact, info in contacts.items():   # accessing two values (contact,info)from dictionarie(contacts)\n",
    "        print(contact, \"\\n\", \"phone :\", info[0], \"\\n\", \"email :\", info[1])\n",
    "    return\n",
    "listallcontacts()\n",
    "    "
   ]
  },
  {
   "cell_type": "code",
   "execution_count": 64,
   "metadata": {},
   "outputs": [
    {
     "ename": "NameError",
     "evalue": "name 'name1' is not defined",
     "output_type": "error",
     "traceback": [
      "\u001b[1;31m---------------------------------------------------------------------------\u001b[0m",
      "\u001b[1;31mNameError\u001b[0m                                 Traceback (most recent call last)",
      "\u001b[1;32m<ipython-input-64-d4d83e9fac3d>\u001b[0m in \u001b[0;36m<module>\u001b[1;34m\u001b[0m\n\u001b[0;32m      3\u001b[0m \u001b[1;32mdef\u001b[0m \u001b[0meditcontact\u001b[0m\u001b[1;33m(\u001b[0m\u001b[0mname\u001b[0m\u001b[1;33m,\u001b[0m \u001b[0mphone\u001b[0m\u001b[1;33m,\u001b[0m \u001b[0memail\u001b[0m\u001b[1;33m)\u001b[0m\u001b[1;33m:\u001b[0m\u001b[1;33m\u001b[0m\u001b[1;33m\u001b[0m\u001b[0m\n\u001b[0;32m      4\u001b[0m     \u001b[0mcontact\u001b[0m\u001b[1;33m[\u001b[0m\u001b[1;34m\"name\"\u001b[0m\u001b[1;33m]\u001b[0m \u001b[1;33m:\u001b[0m \u001b[1;33m[\u001b[0m\u001b[1;36m9876543212\u001b[0m\u001b[1;33m,\u001b[0m \u001b[1;34m\"dineshbabu2@gmail.com\"\u001b[0m\u001b[1;33m]\u001b[0m\u001b[1;33m\u001b[0m\u001b[1;33m\u001b[0m\u001b[0m\n\u001b[1;32m----> 5\u001b[1;33m \u001b[0meditcontact\u001b[0m\u001b[1;33m(\u001b[0m\u001b[0mname1\u001b[0m\u001b[1;33m,\u001b[0m \u001b[1;36m9876543212\u001b[0m\u001b[1;33m,\u001b[0m \u001b[0mdineshbabu2\u001b[0m\u001b[1;33m@\u001b[0m\u001b[0mgmail\u001b[0m\u001b[1;33m.\u001b[0m\u001b[0mcom\u001b[0m\u001b[1;33m)\u001b[0m\u001b[1;33m\u001b[0m\u001b[1;33m\u001b[0m\u001b[0m\n\u001b[0m\u001b[0;32m      6\u001b[0m \u001b[1;33m\u001b[0m\u001b[0m\n",
      "\u001b[1;31mNameError\u001b[0m: name 'name1' is not defined"
     ]
    }
   ],
   "source": [
    "# Function to edit contact information\n",
    "\n",
    "def editcontact(name, phone, email):\n",
    "    contact[\"name\"] : [9876543212, \"dineshbabu2@gmail.com\"]\n",
    "editcontact(name1, 9876543212, dineshbabu2@gmail.com)\n",
    "    "
   ]
  },
  {
   "cell_type": "code",
   "execution_count": null,
   "metadata": {},
   "outputs": [],
   "source": []
  },
  {
   "cell_type": "markdown",
   "metadata": {},
   "source": [
    "#### File Handling in Python\n",
    "\n",
    "File - Document containing information residing on the permanent storage\n",
    "Types - Text, PDF, CSV(spread sheets) etc\n",
    "\n",
    "File I/O - Channeling I/O data to files\n",
    "Default I/O channels - Keyboard / Screen\n",
    "\n",
    "Change I/O channel to files for reading and writing \n",
    "\n",
    "\n",
    "Read a file - Input from file\n",
    "Write to a file - Output to a file\n",
    "\n",
    "Read / write  file - Open (filename, Mode)"
   ]
  },
  {
   "cell_type": "code",
   "execution_count": 71,
   "metadata": {},
   "outputs": [
    {
     "name": "stdout",
     "output_type": "stream",
     "text": [
      "Line1\n",
      "Line2\n",
      "Line3\n"
     ]
    }
   ],
   "source": [
    "# Function to read a file \n",
    "\n",
    "\n",
    "def readfile(filename):\n",
    "    f = open(filename,'r')\n",
    "    filedata = f.read()\n",
    "    f.close()\n",
    "    return filedata\n",
    "\n",
    "filename = 'DataFiles/Data.txt'\n",
    "filedata = readfile(filename)\n",
    "for line in readfile(filename).split('\\n'):\n",
    "    print(line)\n"
   ]
  },
  {
   "cell_type": "code",
   "execution_count": 75,
   "metadata": {},
   "outputs": [
    {
     "name": "stdout",
     "output_type": "stream",
     "text": [
      "Line1\n",
      "Line2\n",
      "Line3"
     ]
    }
   ],
   "source": [
    "def printfiledatalines(filename):\n",
    "    with open(filename, 'r') as f: # with keyword is used to close the file \n",
    "        for line in f:\n",
    "            print(line, end ='')\n",
    "    return\n",
    "printfiledatalines(filename)"
   ]
  },
  {
   "cell_type": "code",
   "execution_count": 76,
   "metadata": {},
   "outputs": [],
   "source": [
    "# Function to write data into a file\n",
    "\n",
    "def writeintofile(filename, filedata):\n",
    "    with open(filename,'w') as f:\n",
    "        f.write(filedata)\n",
    "    return\n",
    "\n",
    "filename = 'DataFiles/Data.txt'\n",
    "\n",
    "writeintofile(filename,\"new data\")"
   ]
  },
  {
   "cell_type": "code",
   "execution_count": 9,
   "metadata": {},
   "outputs": [
    {
     "ename": "NameError",
     "evalue": "name 'filename' is not defined",
     "output_type": "error",
     "traceback": [
      "\u001b[1;31m---------------------------------------------------------------------------\u001b[0m",
      "\u001b[1;31mNameError\u001b[0m                                 Traceback (most recent call last)",
      "\u001b[1;32m<ipython-input-9-e8541ff7c404>\u001b[0m in \u001b[0;36m<module>\u001b[1;34m\u001b[0m\n\u001b[0;32m      7\u001b[0m     \u001b[1;32mreturn\u001b[0m\u001b[1;33m\u001b[0m\u001b[1;33m\u001b[0m\u001b[0m\n\u001b[0;32m      8\u001b[0m \u001b[0mfiledata\u001b[0m \u001b[1;33m=\u001b[0m \u001b[1;34m\"Line2 \\n Line3\"\u001b[0m\u001b[1;33m\u001b[0m\u001b[1;33m\u001b[0m\u001b[0m\n\u001b[1;32m----> 9\u001b[1;33m \u001b[0mappeneddatatofile\u001b[0m\u001b[1;33m(\u001b[0m\u001b[0mfilename\u001b[0m\u001b[1;33m,\u001b[0m\u001b[0mfiledata\u001b[0m\u001b[1;33m)\u001b[0m\u001b[1;33m\u001b[0m\u001b[1;33m\u001b[0m\u001b[0m\n\u001b[0m",
      "\u001b[1;31mNameError\u001b[0m: name 'filename' is not defined"
     ]
    }
   ],
   "source": [
    "# Function to append data to a file\n",
    "\n",
    "\n",
    "def appeneddatatofile(filename, filedata):\n",
    "    with open(filename,'a') as f:\n",
    "        f.write(filedata)\n",
    "    return\n",
    "filedata = \"Line2 \\n Line3\"\n",
    "appeneddatatofile(filename,filedata)"
   ]
  },
  {
   "cell_type": "code",
   "execution_count": null,
   "metadata": {},
   "outputs": [],
   "source": []
  },
  {
   "cell_type": "code",
   "execution_count": 85,
   "metadata": {
    "scrolled": true
   },
   "outputs": [
    {
     "name": "stdout",
     "output_type": "stream",
     "text": [
      "name,phone,email\n"
     ]
    }
   ],
   "source": [
    "# Function to read a file \n",
    "\n",
    "\n",
    "def readfile(filename):\n",
    "    f = open(filename,'r')\n",
    "    filedata = f.read()\n",
    "    f.close()\n",
    "    return filedata\n",
    "\n",
    "filename = 'DataFiles/contacts.txt'\n",
    "filedata = readfile(filename)\n",
    "for line in readfile(filename).split('\\n'):\n",
    "    print(line)\n"
   ]
  },
  {
   "cell_type": "code",
   "execution_count": 86,
   "metadata": {},
   "outputs": [
    {
     "name": "stdout",
     "output_type": "stream",
     "text": [
      "name,phone,email"
     ]
    }
   ],
   "source": [
    "def printfiledatalines(filename):\n",
    "    with open(filename, 'r') as f: # with keyword is used to close the file \n",
    "        for line in f:\n",
    "            print(line, end ='')\n",
    "    return\n",
    "printfiledatalines(filename)"
   ]
  },
  {
   "cell_type": "code",
   "execution_count": 89,
   "metadata": {},
   "outputs": [],
   "source": [
    "# Function to write data into a file\n",
    "\n",
    "def writeintofile(filename, filedata):\n",
    "    with open(filename,'w') as f:\n",
    "        f.write(filedata)\n",
    "    return\n",
    "\n",
    "filename = 'DataFiles/contacts.txt'\n",
    "\n",
    "writeintofile(filename,\"name3 phone:8765432198 email:name3@domain.com\")"
   ]
  },
  {
   "cell_type": "code",
   "execution_count": null,
   "metadata": {},
   "outputs": [],
   "source": [
    "# Function to append data to a file\n",
    "\n",
    "\n",
    "def appeneddatatofile(filename, filedata):\n",
    "    with open(filename,'a') as f:\n",
    "        f.write(filedata)\n",
    "    return\n",
    "filename = 'DataFiles/contacts.txt'\n",
    "filedata = \"\\n name4 \\n phone : 9876543217 \\n email:name3@domain.ext\"\n",
    "appeneddatatofile(filename,filedata)"
   ]
  },
  {
   "cell_type": "code",
   "execution_count": null,
   "metadata": {},
   "outputs": [],
   "source": []
  },
  {
   "cell_type": "code",
   "execution_count": 26,
   "metadata": {},
   "outputs": [
    {
     "data": {
      "text/plain": [
       "False"
      ]
     },
     "execution_count": 26,
     "metadata": {},
     "output_type": "execute_result"
    }
   ],
   "source": [
    "s=1\n",
    "l=[1,2,3,4,5,1,1]\n",
    "\n",
    "m = sorted(l)\n",
    "m == 1"
   ]
  },
  {
   "cell_type": "code",
   "execution_count": 9,
   "metadata": {},
   "outputs": [
    {
     "ename": "SyntaxError",
     "evalue": "invalid syntax (<ipython-input-9-5cb81186070d>, line 8)",
     "output_type": "error",
     "traceback": [
      "\u001b[1;36m  File \u001b[1;32m\"<ipython-input-9-5cb81186070d>\"\u001b[1;36m, line \u001b[1;32m8\u001b[0m\n\u001b[1;33m    if m[i] = l:\u001b[0m\n\u001b[1;37m            ^\u001b[0m\n\u001b[1;31mSyntaxError\u001b[0m\u001b[1;31m:\u001b[0m invalid syntax\n"
     ]
    }
   ],
   "source": [
    "def samestring(n1,n2):\n",
    "    n1 = input(\"enter the first string :\")\n",
    "    n2 = input(\"enter thye 2nd string :\")\n",
    "    m= list(n1)\n",
    "    l= list(n2)\n",
    "    count = 0\n",
    "    for i in range(0,3):\n",
    "        if m[i] = l:\n",
    "            count += count\n",
    "        else:\n",
    "            for k in range(0,3):\n",
    "                if l[i] = m:\n",
    "                    count += count\n",
    "    print(count)\n",
    "samestring(\"n1\",\"n2\")"
   ]
  },
  {
   "cell_type": "code",
   "execution_count": 3,
   "metadata": {},
   "outputs": [
    {
     "name": "stdout",
     "output_type": "stream",
     "text": [
      "enter the first string :abc\n"
     ]
    },
    {
     "data": {
      "text/plain": [
       "'c'"
      ]
     },
     "execution_count": 3,
     "metadata": {},
     "output_type": "execute_result"
    }
   ],
   "source": [
    "n1 = input(\"enter the first string :\")\n",
    "m = list(n1)\n",
    "m[2]"
   ]
  },
  {
   "cell_type": "code",
   "execution_count": null,
   "metadata": {},
   "outputs": [],
   "source": []
  },
  {
   "cell_type": "code",
   "execution_count": null,
   "metadata": {},
   "outputs": [],
   "source": []
  },
  {
   "cell_type": "code",
   "execution_count": null,
   "metadata": {},
   "outputs": [],
   "source": []
  },
  {
   "cell_type": "code",
   "execution_count": null,
   "metadata": {},
   "outputs": [],
   "source": []
  },
  {
   "cell_type": "code",
   "execution_count": null,
   "metadata": {},
   "outputs": [],
   "source": []
  },
  {
   "cell_type": "code",
   "execution_count": null,
   "metadata": {},
   "outputs": [],
   "source": []
  }
 ],
 "metadata": {
  "kernelspec": {
   "display_name": "Python 3",
   "language": "python",
   "name": "python3"
  },
  "language_info": {
   "codemirror_mode": {
    "name": "ipython",
    "version": 3
   },
   "file_extension": ".py",
   "mimetype": "text/x-python",
   "name": "python",
   "nbconvert_exporter": "python",
   "pygments_lexer": "ipython3",
   "version": "3.7.3"
  }
 },
 "nbformat": 4,
 "nbformat_minor": 2
}
