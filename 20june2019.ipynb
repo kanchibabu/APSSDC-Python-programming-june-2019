{
 "cells": [
  {
   "cell_type": "markdown",
   "metadata": {},
   "source": [
    "## Date : 20 june 2019\n",
    "## Day Objective\n",
    "\n",
    "-  Regular Expression\n",
    "\n",
    "    * Constructing Regular expression for various use cases\n",
    "\n",
    "    * Regular Expression Module and related in python\n",
    "\n",
    "    * Improving the contacts application with name and phone number validation \n",
    "\n",
    "-  File handling\n",
    "\n",
    "    * Text Files\n",
    "\n",
    "    * Upgrading the contacts application to store contact information in a text file "
   ]
  },
  {
   "cell_type": "code",
   "execution_count": null,
   "metadata": {},
   "outputs": [],
   "source": []
  },
  {
   "cell_type": "markdown",
   "metadata": {},
   "source": [
    "#### Regular Expressions\n",
    "\n",
    "- Pattern Matching\n",
    "- Symbolic notation of a pattern\n",
    "    - Pattern :Formate which repeats \n",
    "    - Pattern (RE) - Represents The set of all values strings match that particular pattern  \n",
    "- [0-9] -> Any digit \n",
    "- [a-z] -> Any lower case alphabet\n",
    "- [2468] or [8642] or [6824] -> All single digit multiples of 2\n",
    "\n",
    "- ^[0-9]{1}$ -> Is used to represent only single digit numbers \n",
    "\n",
    "- ^[0-9]{3}$ -> is used to represent only three digit numbers\n",
    "\n",
    "- ^[0-9]{3} -> is used to represent only fist three digits in a given string \n",
    "\n",
    "- [0-9]{3}$ -> is used to represent only last three digits in a given string\n",
    "\n",
    "- [0-9]*0$ -> is used to represent only the multiplies of 10\n",
    "\n",
    "- ^([1-9][0-9]*[05])$|^([5])$ -> All multiples of 5\n",
    "\n",
    "- [w] [o] [r] [d] or (word) -> used to search the specific word\n",
    "\n",
    "- ^[1-9][0-9]{9}$ -> All 10 digit numbers\n",
    "\n",
    "- ^[9876][0-9]{9}$  -> Validating phone number(India) (start with 9876 followed by 9 digits)\n",
    "\n",
    "\n",
    "- ^([1-9][0-9]{9}$)|^([0][9876][0-9]{9})$ -> Validating phone number(India)with staring 0 (start with 9876 followed by 9 digits)\n",
    "\n",
    "-^([1-9][0-9]{9}$)|^([0][9876][0-9]{9})$|([+][9][1][6-9][0-9])$ ->Validating phone number(India) (start with 9876 followed by 9 digits)\n",
    "\n",
    "\n",
    "\n",
    "- ^[a-z0-9.]*@*[a-z]*.*[a-z]$ -> Email validation (username@domain.extension)\n"
   ]
  },
  {
   "cell_type": "code",
   "execution_count": null,
   "metadata": {},
   "outputs": [],
   "source": []
  },
  {
   "cell_type": "code",
   "execution_count": null,
   "metadata": {},
   "outputs": [],
   "source": []
  },
  {
   "cell_type": "code",
   "execution_count": null,
   "metadata": {},
   "outputs": [],
   "source": []
  },
  {
   "cell_type": "code",
   "execution_count": null,
   "metadata": {},
   "outputs": [],
   "source": []
  },
  {
   "cell_type": "code",
   "execution_count": null,
   "metadata": {},
   "outputs": [],
   "source": []
  },
  {
   "cell_type": "code",
   "execution_count": null,
   "metadata": {},
   "outputs": [],
   "source": []
  },
  {
   "cell_type": "code",
   "execution_count": null,
   "metadata": {},
   "outputs": [],
   "source": []
  },
  {
   "cell_type": "code",
   "execution_count": null,
   "metadata": {},
   "outputs": [],
   "source": []
  }
 ],
 "metadata": {
  "kernelspec": {
   "display_name": "Python 3",
   "language": "python",
   "name": "python3"
  },
  "language_info": {
   "codemirror_mode": {
    "name": "ipython",
    "version": 3
   },
   "file_extension": ".py",
   "mimetype": "text/x-python",
   "name": "python",
   "nbconvert_exporter": "python",
   "pygments_lexer": "ipython3",
   "version": "3.7.3"
  }
 },
 "nbformat": 4,
 "nbformat_minor": 2
}
