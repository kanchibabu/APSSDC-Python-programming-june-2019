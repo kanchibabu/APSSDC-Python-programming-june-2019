{
 "cells": [
  {
   "cell_type": "code",
   "execution_count": 2,
   "metadata": {},
   "outputs": [
    {
     "name": "stdout",
     "output_type": "stream",
     "text": [
      "enter emailbabu@gmail.com\n",
      "name2 already exists\n",
      "name3 added to contacts\n",
      "name4 added to contacts\n",
      "name5 added to contacts\n"
     ]
    }
   ],
   "source": [
    "import re\n",
    "\n",
    "# Function to add contact to contacts text file\n",
    "from Packages.validator import phonenumbervalidator as pnv, emailvalidator as ev\n",
    "\n",
    "def addcontact(name,phone,email):\n",
    "    filename = 'DataFiles/contacts.txt'\n",
    "    if not checkcontactsexists(name):\n",
    "        if pnv(phone) and ev(email):\n",
    "            with open(filename,'a') as f:\n",
    "                line = '\\n' + name + ',' + str(phone) + ',' + email + '\\n'\n",
    "                f.write(line)\n",
    "            print(name, 'added to contacts')\n",
    "        else:\n",
    "            print('invalid phone number or email')\n",
    "        return\n",
    "    else:\n",
    "        print(name, 'already exists')\n",
    "    return\n",
    "\n",
    "import re\n",
    "#Function to check if contact already exists\n",
    "def checkcontactsexists(name):\n",
    "    filename = 'DataFiles/contacts.txt'\n",
    "    with open(filename, 'r') as f:\n",
    "        filedata = f.read()\n",
    "        pattern = name+','\n",
    "    return re.search(pattern, filedata)\n",
    "\n",
    "addcontact('name2',9123456789, 'babu123@gmail.com')\n",
    "addcontact('name3',9123456719, 'babu1234@gmail.com')\n",
    "addcontact('name4',9113456789, 'babu1235@gmail.com')\n",
    "addcontact('name5',9123456189, 'babu1236@gmail.com')"
   ]
  },
  {
   "cell_type": "code",
   "execution_count": 4,
   "metadata": {},
   "outputs": [],
   "source": [
    "#Reading contacts from file\n",
    "def ReadContact():\n",
    "    contact=[]\n",
    "    with open(filename,'r') as f:\n",
    "            for line in f:\n",
    "                contact.append(line.split(','))\n",
    "            return contact"
   ]
  },
  {
   "cell_type": "code",
   "execution_count": 8,
   "metadata": {},
   "outputs": [
    {
     "name": "stdout",
     "output_type": "stream",
     "text": [
      "Phone Number:  9123456789 Email Id:  babu123@gmail.com\n",
      "\n"
     ]
    }
   ],
   "source": [
    "#function to search contacts using files\n",
    "filename='DataFiles/contacts.txt'\n",
    "def SearchContact(name):\n",
    "    contact=ReadContact()\n",
    "    for i in range(0,len(contact)):\n",
    "        if(contact[i][0]==name):\n",
    "            print(\"Phone Number: \",contact[i][1],\"Email Id: \",contact[i][2]) # Printint the contact and email in the shell \n",
    "            c=1\n",
    "            break\n",
    "        else: c=0\n",
    "    if c==0:\n",
    "        print(name,\"contact doesn't exist\")\n",
    "            \n",
    "SearchContact(\"name2\")"
   ]
  },
  {
   "cell_type": "code",
   "execution_count": 12,
   "metadata": {},
   "outputs": [
    {
     "name": "stdout",
     "output_type": "stream",
     "text": [
      "Sucessfully Contact Modified\n"
     ]
    }
   ],
   "source": [
    "#Modify Contact\n",
    "\n",
    "filename='DataFiles/Contacts.txt'\n",
    "\n",
    "def WriteData(filename,Contact):\n",
    "    with open(filename,'w') as f:\n",
    "            for lines in Contact:\n",
    "                readline=','.join(lines)\n",
    "                f.writelines(readline)\n",
    "            print(\"Sucessfully Contact Modified\")\n",
    "    return\n",
    "\n",
    "\n",
    "def EdiContact(name,phone,email):\n",
    "    Contact=ReadContact()\n",
    "    if checkcontactsexists(name):\n",
    "        if pnv(phone) and ev(email):\n",
    "            for i in range(0,len(Contact)):\n",
    "                if(Contact[i][0]==name):\n",
    "                    Contact[i][1]=phone;Contact[i][2]=email\n",
    "                    break\n",
    "            WriteData(filename,Contact)\n",
    "        else:\n",
    "            print(\"Enter valid email\")\n",
    "    else:\n",
    "        print(\"Contact not exists\")\n",
    "    return\n",
    "\n",
    "\n",
    "\n",
    "EdiContact(\"name4\",\"9676965949\",\"kanchibabu.m@gmail.com\")"
   ]
  },
  {
   "cell_type": "markdown",
   "metadata": {},
   "source": [
    " ### write a file"
   ]
  },
  {
   "cell_type": "code",
   "execution_count": 22,
   "metadata": {},
   "outputs": [],
   "source": [
    "fh = open('book.txt', 'w')"
   ]
  },
  {
   "cell_type": "code",
   "execution_count": 23,
   "metadata": {},
   "outputs": [
    {
     "data": {
      "text/plain": [
       "12"
      ]
     },
     "execution_count": 23,
     "metadata": {},
     "output_type": "execute_result"
    }
   ],
   "source": [
    "data = \"hi every one\"\n",
    "fh.write(data)"
   ]
  },
  {
   "cell_type": "code",
   "execution_count": 15,
   "metadata": {},
   "outputs": [],
   "source": [
    "fh.close()"
   ]
  },
  {
   "cell_type": "markdown",
   "metadata": {},
   "source": [
    "### read a file"
   ]
  },
  {
   "cell_type": "code",
   "execution_count": 25,
   "metadata": {},
   "outputs": [
    {
     "name": "stdout",
     "output_type": "stream",
     "text": [
      "hi every one\n"
     ]
    }
   ],
   "source": [
    "fh = open('book.txt','r')\n",
    "print(fh.read())\n",
    "fh.close()"
   ]
  },
  {
   "cell_type": "code",
   "execution_count": null,
   "metadata": {},
   "outputs": [],
   "source": []
  },
  {
   "cell_type": "code",
   "execution_count": null,
   "metadata": {},
   "outputs": [],
   "source": []
  },
  {
   "cell_type": "code",
   "execution_count": null,
   "metadata": {},
   "outputs": [],
   "source": []
  },
  {
   "cell_type": "code",
   "execution_count": null,
   "metadata": {},
   "outputs": [],
   "source": []
  },
  {
   "cell_type": "code",
   "execution_count": null,
   "metadata": {},
   "outputs": [],
   "source": []
  },
  {
   "cell_type": "code",
   "execution_count": null,
   "metadata": {},
   "outputs": [],
   "source": []
  }
 ],
 "metadata": {
  "kernelspec": {
   "display_name": "Python 3",
   "language": "python",
   "name": "python3"
  },
  "language_info": {
   "codemirror_mode": {
    "name": "ipython",
    "version": 3
   },
   "file_extension": ".py",
   "mimetype": "text/x-python",
   "name": "python",
   "nbconvert_exporter": "python",
   "pygments_lexer": "ipython3",
   "version": "3.7.3"
  }
 },
 "nbformat": 4,
 "nbformat_minor": 2
}
