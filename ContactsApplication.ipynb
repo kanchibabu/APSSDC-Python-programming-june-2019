{
 "cells": [
  {
   "cell_type": "code",
   "execution_count": 93,
   "metadata": {},
   "outputs": [],
   "source": [
    "#Defining Email and Mobile number validators\n",
    "import re\n",
    "def ev(email):\n",
    "    pattern='^[0-9a-z][0-9a-z_.]{4,25}[0-9a-z][@][0-9a-z]{3,18}[.][a-z]{2,4}|^[0-9a-z][0-9a-z_.]{4,13}[0-9a-z][@][0-9a-z]{3,18}[.][a-z]{2,4}[.][a-z]{2,4}$'\n",
    "    if re.match(pattern,email):\n",
    "        return True\n",
    "    return False\n",
    "\n",
    "\n",
    "def pnv(num):\n",
    "    pattern= '^[6-9][0-9]{9}$|^[0][6-9][0-9]{9}$|^[+][9][1][6-9][0-9]{9}$ '\n",
    "    if re.match(pattern,str(num)):\n",
    "        return True\n",
    "    return False"
   ]
  },
  {
   "cell_type": "code",
   "execution_count": null,
   "metadata": {},
   "outputs": [],
   "source": []
  },
  {
   "cell_type": "code",
   "execution_count": 98,
   "metadata": {},
   "outputs": [],
   "source": [
    "# Function to check if contact already exists\n",
    "def ContactsData(name):\n",
    "    filename = 'DataFiles/ContactsList.txt'\n",
    "    with open(filename, 'r') as f:\n",
    "        filedata = f.read()\n",
    "        pattern = name+','\n",
    "    return re.search(pattern, filedata)"
   ]
  },
  {
   "cell_type": "code",
   "execution_count": null,
   "metadata": {},
   "outputs": [],
   "source": []
  },
  {
   "cell_type": "code",
   "execution_count": 106,
   "metadata": {},
   "outputs": [
    {
     "name": "stdout",
     "output_type": "stream",
     "text": [
      "Anil Peter added to the Contacts List\n",
      "Mummy added to the Contacts List\n",
      "Daddy added to the Contacts List\n",
      "John Silva Raju added to the Contacts List\n",
      "Kiran Babu added to the Contacts List\n"
     ]
    }
   ],
   "source": [
    "# Function to add contact to contacts text file\n",
    "\n",
    "import re\n",
    "\n",
    "def AddContact(name, phone, email):\n",
    "    # store data as name,phone,email in the contacts file    \n",
    "    filename = 'DataFiles/ContactsList.txt'\n",
    "    if not ContactsData(name):\n",
    "        if pnv(phone) and ev(email):\n",
    "            with open(filename, 'a') as f:\n",
    "                line = name + ',' + str(phone) + ',' + email + '\\n'\n",
    "                f.write(line)\n",
    "            print(name, 'added to the Contacts List')\n",
    "        else:\n",
    "            print('Invalid Phone number or Email')\n",
    "            return\n",
    "    else:\n",
    "        print(name, 'Already Exists')\n",
    "    return\n",
    "\n",
    "\n",
    "AddContact('Anil Peter', 8886785229, 'anilkumar_t@apssdc.in')\n",
    "AddContact('Mummy', 7032855708, 'mummy143@anil.com')\n",
    "AddContact('Daddy', 9441448680, 'daddy143@anil.com')\n",
    "AddContact('John Silva Raju', 7702023300, 'johnsilvarju7@gmail.com')\n",
    "AddContact('Kiran Babu', 9440137348, 'mavayya143@anil.com')"
   ]
  },
  {
   "cell_type": "code",
   "execution_count": null,
   "metadata": {},
   "outputs": [],
   "source": []
  },
  {
   "cell_type": "code",
   "execution_count": 42,
   "metadata": {},
   "outputs": [],
   "source": [
    "#Reading contacts from file\n",
    "def ReadContact():\n",
    "    contact=[]\n",
    "    with open(filename,'r') as f:\n",
    "            for line in f:\n",
    "                contact.append(line.split(','))\n",
    "            return contact"
   ]
  },
  {
   "cell_type": "code",
   "execution_count": null,
   "metadata": {},
   "outputs": [],
   "source": []
  },
  {
   "cell_type": "code",
   "execution_count": 107,
   "metadata": {},
   "outputs": [
    {
     "name": "stdout",
     "output_type": "stream",
     "text": [
      "Phone Number:  7032855708 Email Id:  mummy143@anil.com\n",
      "\n"
     ]
    }
   ],
   "source": [
    "#function to search contacts using files\n",
    "filename='DataFiles/ContactsList.txt'\n",
    "def SearchContact(name):\n",
    "    contact=ReadContact()\n",
    "    for i in range(0,len(contact)):\n",
    "        if(contact[i][0]==name):\n",
    "            print(\"Phone Number: \",contact[i][1],\"Email Id: \",contact[i][2]) # Printint the contact and email in the shell \n",
    "            c=1\n",
    "            break\n",
    "        else: c=0\n",
    "    if c==0:\n",
    "        print(name,\"contact doesn't exist\")\n",
    "            \n",
    "SearchContact(\"Mummy\")"
   ]
  },
  {
   "cell_type": "code",
   "execution_count": null,
   "metadata": {},
   "outputs": [],
   "source": []
  },
  {
   "cell_type": "code",
   "execution_count": 62,
   "metadata": {},
   "outputs": [],
   "source": [
    "def WriteData(filename,Contact):\n",
    "    with open(filename,'a') as f:\n",
    "            for lines in Contact:\n",
    "                readline=','.join(lines)\n",
    "                f.writelines(readline)"
   ]
  },
  {
   "cell_type": "code",
   "execution_count": null,
   "metadata": {},
   "outputs": [],
   "source": []
  },
  {
   "cell_type": "code",
   "execution_count": 108,
   "metadata": {},
   "outputs": [
    {
     "name": "stdout",
     "output_type": "stream",
     "text": [
      "[['Anil Peter', '8886785229', 'anilkumar_t@apssdc.in\\n'], ['Mummy', '7032855708', 'mummy143@anil.com\\n'], ['Daddy', '9441448680', 'daddy143@anil.com\\n'], ['John Silva Raju', '7702023300', 'johnsilvarju7@gmail.com\\n']]\n"
     ]
    }
   ],
   "source": [
    "#function to delete contacts using files\n",
    "filename='DataFiles/ContactsList.txt'\n",
    "def DeleteContact(name):\n",
    "    Contact=ReadContact()\n",
    "    if ContactsData(name):\n",
    "        for i in range(0,len(Contact)):\n",
    "            if(Contact[i][0]==name):\n",
    "                Contact.pop(i)\n",
    "                break\n",
    "        WriteData(filename,Contact)\n",
    "        print(Contact)\n",
    "    else:\n",
    "        print(\"Contact not found to Delete\")\n",
    "def WriteData(filename,Contact):\n",
    "    with open(filename,'w') as f:\n",
    "            for lines in Contact:\n",
    "                readline=','.join(lines)\n",
    "                f.writelines(readline)\n",
    "    \n",
    "        \n",
    "DeleteContact(\"Kiran Babu\")"
   ]
  },
  {
   "cell_type": "code",
   "execution_count": null,
   "metadata": {},
   "outputs": [],
   "source": []
  },
  {
   "cell_type": "code",
   "execution_count": 110,
   "metadata": {},
   "outputs": [
    {
     "name": "stdout",
     "output_type": "stream",
     "text": [
      "Sucessfully Contact Modified\n"
     ]
    }
   ],
   "source": [
    "#Modify Contact\n",
    "\n",
    "filename='DataFiles/ContactsList.txt'\n",
    "\n",
    "def EdiContact(name,phone,email):\n",
    "    Contact=ReadContact()\n",
    "    if ContactsData(name):\n",
    "        if pnv(phone) and ev(email):\n",
    "            for i in range(0,len(Contact)):\n",
    "                if(Contact[i][0]==name):\n",
    "                    Contact[i][1]=phone;Contact[i][2]=email\n",
    "                    break\n",
    "            WriteData(filename,Contact)\n",
    "        else:\n",
    "            print(\"Enter correct Phone number or email\")\n",
    "    else:\n",
    "        print(\"Contact not found\")\n",
    "    return\n",
    "\n",
    "\n",
    "def WriteData(filename,Contact):\n",
    "    with open(filename,'w') as f:\n",
    "            for lines in Contact:\n",
    "                readline=','.join(lines)\n",
    "                f.writelines(readline)\n",
    "            print(\"Sucessfully Contact Modified\")\n",
    "    return\n",
    "EdiContact(\"John Silva Raju\",\"7702023300\",\"teegala.johnsilvaraju7@gmail.com\")"
   ]
  },
  {
   "cell_type": "code",
   "execution_count": 55,
   "metadata": {},
   "outputs": [],
   "source": []
  },
  {
   "cell_type": "code",
   "execution_count": 135,
   "metadata": {},
   "outputs": [
    {
     "name": "stdout",
     "output_type": "stream",
     "text": [
      "Name: Anil Peter \n",
      "   Mobile Number: \t 8886785229 \n",
      "   Email:\t \t anilkumar_t@apssdc.in\n",
      "\n",
      "Name: Mummy \n",
      "   Mobile Number: \t 7032855708 \n",
      "   Email:\t \t mummy143@anil.com\n",
      "\n",
      "Name: Daddy \n",
      "   Mobile Number: \t 9441448680 \n",
      "   Email:\t \t daddy143@anil.com\n",
      "\n",
      "Name: John Silva Raju \n",
      "   Mobile Number: \t 7702023300 \n",
      "   Email:\t \t teegala.johnsilvaraju7@gmail.com\n"
     ]
    }
   ],
   "source": [
    "def ShowAllContacts():\n",
    "    ContactsList=ReadContact()\n",
    "    for i in range (0,len(ContactsList)):\n",
    "        print(\"Name:\",ContactsList[i][0],\"\\n   \"\"Mobile Number: \\t\",ContactsList[i][1],\"\\n  \",\"Email:\\t \\t\",ContactsList[i][2])\n",
    "    \n",
    "\n",
    "ShowAllContacts()"
   ]
  },
  {
   "cell_type": "code",
   "execution_count": null,
   "metadata": {},
   "outputs": [],
   "source": []
  }
 ],
 "metadata": {
  "kernelspec": {
   "display_name": "Python 3",
   "language": "python",
   "name": "python3"
  },
  "language_info": {
   "codemirror_mode": {
    "name": "ipython",
    "version": 3
   },
   "file_extension": ".py",
   "mimetype": "text/x-python",
   "name": "python",
   "nbconvert_exporter": "python",
   "pygments_lexer": "ipython3",
   "version": "3.7.3"
  }
 },
 "nbformat": 4,
 "nbformat_minor": 2
}
