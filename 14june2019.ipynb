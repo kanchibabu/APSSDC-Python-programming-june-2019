{
 "cells": [
  {
   "cell_type": "markdown",
   "metadata": {},
   "source": [
    "## Problem solving and programming in Python - Day 4\n",
    "\n",
    "### Date - 14 june 2019\n",
    "\n",
    "### Day Objectives\n",
    "* Python Data Structures\n",
    "* Lists\n",
    "* Tuples\n",
    "* Dictionaries\n",
    "* Basic Problem set on Data Structures\n",
    "* Advanced Problem Set\n",
    "* Packages and Modules in Python"
   ]
  },
  {
   "cell_type": "markdown",
   "metadata": {},
   "source": [
    "### Python Data Structures\n",
    "\n",
    "#### Lists"
   ]
  },
  {
   "cell_type": "code",
   "execution_count": 3,
   "metadata": {},
   "outputs": [],
   "source": [
    "li = [123, 987, 654]\n",
    "\n",
    "li # Access the entire list\n",
    "\n",
    "li[1] # Access an element with index in a list\n",
    "\n",
    "li[1:] #Acess all elements from second element\n",
    "\n",
    "li = li[::-1] # reversing list elements  \n",
    "li\n",
    "li = li[::-1]\n",
    "li\n",
    "li[::2] # Accessing even index elements\n",
    "\n",
    "li[1::2]\n",
    "\n",
    "# Lists can be accessed, manipulated in two \n",
    "    # Direct Referencing - [index]\n",
    "    # Indirect Referencing - through function\n",
    "li.append(345) # Adding an element to end of the list\n",
    "li.insert(1, 234) # Adding an element at a particular index\n",
    "li.sort() # Sort elements in ascending order \n",
    "li.pop()  # Remove the last element in a list \n",
    "li.pop(1)# Remove an element at a particular index\n",
    "li2 = [234, 456, 789]\n",
    "li.extend(li2)# Merge list 2 into list 1\n",
    "sum(li)# Sum of all the elements in the list\n",
    "max(li)# Maximum element in a list\n",
    "len(li)# Number of elements in a list\n",
    "sum(li)/len(li)# average of all the elements\n",
    "li = [123, 456, 789]\n",
    "li2.sort() "
   ]
  },
  {
   "cell_type": "code",
   "execution_count": 36,
   "metadata": {},
   "outputs": [
    {
     "data": {
      "text/plain": [
       "456.0"
      ]
     },
     "execution_count": 36,
     "metadata": {},
     "output_type": "execute_result"
    }
   ],
   "source": [
    "# Average of list elements\n",
    "\n",
    "li = [123, 456,789]\n",
    "sum(li)/len(li)"
   ]
  },
  {
   "cell_type": "code",
   "execution_count": 9,
   "metadata": {},
   "outputs": [
    {
     "data": {
      "text/plain": [
       "555.0"
      ]
     },
     "execution_count": 9,
     "metadata": {},
     "output_type": "execute_result"
    }
   ],
   "source": [
    "# Average of all alternate elements\n",
    "\n",
    "li = [123, 456, 987]\n",
    "sum(li[::2])/len(li[::2])"
   ]
  },
  {
   "cell_type": "code",
   "execution_count": 18,
   "metadata": {},
   "outputs": [
    {
     "data": {
      "text/plain": [
       "456"
      ]
     },
     "execution_count": 18,
     "metadata": {},
     "output_type": "execute_result"
    }
   ],
   "source": [
    "# Function to identify the second largest element in  the list\n",
    "def secondlargest(li):\n",
    "    li.sort()\n",
    "    return li[-2]\n",
    "secondlargest(li)"
   ]
  },
  {
   "cell_type": "code",
   "execution_count": 16,
   "metadata": {},
   "outputs": [
    {
     "data": {
      "text/plain": [
       "456"
      ]
     },
     "execution_count": 16,
     "metadata": {},
     "output_type": "execute_result"
    }
   ],
   "source": [
    "# function that returns the nth largest number\n",
    "def genericlargest(li, n):\n",
    "    li.sort()\n",
    "    return li[-n]\n",
    "\n",
    "secondlargest(li)\n",
    "genericlargest(li, 2)\n"
   ]
  },
  {
   "cell_type": "code",
   "execution_count": 26,
   "metadata": {},
   "outputs": [
    {
     "data": {
      "text/plain": [
       "-1"
      ]
     },
     "execution_count": 26,
     "metadata": {},
     "output_type": "execute_result"
    }
   ],
   "source": [
    "# Function to search for data in a list\n",
    "# Search the key in the list and return the index value\n",
    "def linearsearch(li, key):\n",
    "    if key == li[0] or key == li[1] or key == li[2]:\n",
    "        return key\n",
    "    else:\n",
    "        return -1\n",
    "linearsearch(li, 988)\n"
   ]
  },
  {
   "cell_type": "code",
   "execution_count": null,
   "metadata": {
    "scrolled": true
   },
   "outputs": [],
   "source": [
    "# Function to search for data in a list\n",
    "# Search the key in the list and return the index value\n",
    "def linearsearch(li, key):\n",
    "    for index in range(o, len(li)):\n",
    "        if li[index] == key:\n",
    "            return index\n",
    "    return -1    \n",
    "def linearsearch2(li, key):\n",
    "    for element in li:\n",
    "        if element == key:\n",
    "            return li.index(element)\n",
    "        return -1\n",
    "    \n",
    "def linearsearch3(li, key):\n",
    "    if key in li:\n",
    "        return li.index(key)\n",
    "    return -1\n",
    "linearsearch(li, 456)"
   ]
  },
  {
   "cell_type": "code",
   "execution_count": null,
   "metadata": {},
   "outputs": [],
   "source": [
    "# Function to count the occurances of a character in the string\n",
    "# \" python programming\", m -> 2\n",
    "def charoccurance(s, c):\n",
    "    count = 0\n",
    "    for ch in s:\n",
    "        if ch == c:\n",
    "            count +=1\n",
    "    return count    "
   ]
  },
  {
   "cell_type": "code",
   "execution_count": 40,
   "metadata": {},
   "outputs": [
    {
     "name": "stdout",
     "output_type": "stream",
     "text": [
      "3\n",
      "12 3 2\n"
     ]
    },
    {
     "data": {
      "text/plain": [
       "2"
      ]
     },
     "execution_count": 40,
     "metadata": {},
     "output_type": "execute_result"
    }
   ],
   "source": [
    "# print the largest value which is closest to zero \n",
    "n = int(input())\n",
    "s = input()\n",
    "s = s.split()\n",
    "li = []\n",
    "for i in s:\n",
    "    li.append(abs(int(i)))\n",
    "min(li)"
   ]
  },
  {
   "cell_type": "markdown",
   "metadata": {},
   "source": []
  }
 ],
 "metadata": {
  "kernelspec": {
   "display_name": "Python 3",
   "language": "python",
   "name": "python3"
  },
  "language_info": {
   "codemirror_mode": {
    "name": "ipython",
    "version": 3
   },
   "file_extension": ".py",
   "mimetype": "text/x-python",
   "name": "python",
   "nbconvert_exporter": "python",
   "pygments_lexer": "ipython3",
   "version": "3.7.3"
  }
 },
 "nbformat": 4,
 "nbformat_minor": 2
}
