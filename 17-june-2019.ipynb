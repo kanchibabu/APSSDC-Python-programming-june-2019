{
 "cells": [
  {
   "cell_type": "markdown",
   "metadata": {},
   "source": [
    "# Function to toggle string\n",
    "\n",
    "s.isupper() # check the given string is upper or not <BR>\n",
    "s.islower() # check the given string is lower or not <BR>\n",
    "s.upper() # to change the given string into upper case <BR>\n",
    "s.lower() # to change the gven string into lower case <BR>\n"
   ]
  },
  {
   "cell_type": "code",
   "execution_count": null,
   "metadata": {},
   "outputs": [],
   "source": [
    "s = input()\n",
    "def minutedifference():\n",
    "    sh = int(s[0])\n",
    "    sm = int(s[1])\n",
    "    eh = int(s[2])\n",
    "    em = int(s[3])\n",
    "    startminutes = (sh * 60) + sm\n",
    "    endminutes = (eh * 60) + em\n",
    "    return endminutes - startminutes\n",
    "def outputtimeformate(minutes):\n",
    "    hh = minutes// 60\n",
    "    mm = minutes % 60\n",
    "    print(hh, mm)\n",
    "    return\n",
    "minutes = minutedifference(s)\n",
    "outputtimeformate(minutes)\n",
    "\n",
    "n = int(input())\n",
    "for i in range(0, n):\n",
    "    s = input()\n",
    "minutes = minutedifference(s)\n",
    "outputtimeformate(minutes)"
   ]
  },
  {
   "cell_type": "code",
   "execution_count": null,
   "metadata": {},
   "outputs": [],
   "source": [
    "s = \"abc\"\n",
    "s.split()\n",
    "list(s)\n",
    "l1 = s[0]\n",
    "l2 = s[1]\n",
    "l3 = s[2]"
   ]
  },
  {
   "cell_type": "code",
   "execution_count": 19,
   "metadata": {},
   "outputs": [
    {
     "name": "stdout",
     "output_type": "stream",
     "text": [
      "No\n"
     ]
    }
   ],
   "source": [
    "def ispositivedivisiors(n):\n",
    "    z = 0\n",
    "    for i in range(1, n):\n",
    "        \n",
    "        if n % i == 0:\n",
    "            z = z + i\n",
    "      \n",
    "    if z == n:\n",
    "        print(\"Yes\")\n",
    "    else:\n",
    "        print(\"No\")\n",
    "ispositivedivisiors(5)"
   ]
  },
  {
   "cell_type": "code",
   "execution_count": 41,
   "metadata": {},
   "outputs": [
    {
     "name": "stdout",
     "output_type": "stream",
     "text": [
      "3\n",
      "3\n"
     ]
    }
   ],
   "source": [
    "s = (\"abc123\")\n",
    "s = list(s)\n",
    "def isalphabet(s):\n",
    "    count = 0\n",
    "    z = 0\n",
    "    for i in s:\n",
    "        if (i>='a' and i<='z'):\n",
    "            count += 1\n",
    "        if(i.isdigit()):\n",
    "            z = z + 1\n",
    "    print(count)\n",
    "    print(z)\n",
    "isalphabet(\"abc123\")"
   ]
  },
  {
   "cell_type": "code",
   "execution_count": 50,
   "metadata": {},
   "outputs": [],
   "source": [
    "n = 3\n",
    "def largestnumber(n):\n",
    "    count = \" \"\n",
    "    for i in range(1,n+1):\n",
    "        if n % i == count:\n",
    "            list(i)\n",
    "        else:\n",
    "            print(i.max())\n",
    "        \n",
    "            "
   ]
  },
  {
   "cell_type": "code",
   "execution_count": null,
   "metadata": {},
   "outputs": [],
   "source": []
  },
  {
   "cell_type": "code",
   "execution_count": null,
   "metadata": {},
   "outputs": [],
   "source": []
  },
  {
   "cell_type": "code",
   "execution_count": null,
   "metadata": {},
   "outputs": [],
   "source": []
  },
  {
   "cell_type": "code",
   "execution_count": null,
   "metadata": {},
   "outputs": [],
   "source": []
  }
 ],
 "metadata": {
  "kernelspec": {
   "display_name": "Python 3",
   "language": "python",
   "name": "python3"
  },
  "language_info": {
   "codemirror_mode": {
    "name": "ipython",
    "version": 3
   },
   "file_extension": ".py",
   "mimetype": "text/x-python",
   "name": "python",
   "nbconvert_exporter": "python",
   "pygments_lexer": "ipython3",
   "version": "3.7.3"
  }
 },
 "nbformat": 4,
 "nbformat_minor": 2
}
